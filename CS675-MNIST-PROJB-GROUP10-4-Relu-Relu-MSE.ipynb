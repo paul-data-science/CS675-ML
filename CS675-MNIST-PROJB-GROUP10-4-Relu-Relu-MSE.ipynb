{
 "cells": [
  {
   "cell_type": "code",
   "execution_count": 1,
   "metadata": {},
   "outputs": [],
   "source": [
    "import time\n",
    "# Start run time\n",
    "start_time = time.time()\n",
    "\n",
    "# Python ≥3.5 is required\n",
    "import sys\n",
    "assert sys.version_info >= (3, 5)\n",
    "\n",
    "# Scikit-Learn ≥0.20 is required\n",
    "import sklearn\n",
    "assert sklearn.__version__ >= \"0.20\"\n",
    "\n",
    "try:\n",
    "    # %tensorflow_version only exists in Colab.\n",
    "    %tensorflow_version 2.x\n",
    "except Exception:\n",
    "    pass\n",
    "\n",
    "# TensorFlow ≥2.0 is required\n",
    "import tensorflow as tf\n",
    "from tensorflow import keras\n",
    "assert tf.__version__ >= \"2.0\"\n",
    "\n",
    "# Common imports\n",
    "import pandas as pd\n",
    "import numpy as np\n",
    "import os\n",
    "\n",
    "# to make this notebook's output stable across runs\n",
    "np.random.seed(42)\n",
    "tf.random.set_seed(42)\n",
    "\n",
    "# To plot pretty figures\n",
    "import matplotlib as mpl\n",
    "import matplotlib.pyplot as plt"
   ]
  },
  {
   "cell_type": "markdown",
   "metadata": {},
   "source": [
    "**Let's load the MNIST dataset from Keras:**"
   ]
  },
  {
   "cell_type": "code",
   "execution_count": 2,
   "metadata": {},
   "outputs": [],
   "source": [
    "(X_train_full, y_train_full), (X_test, y_test) = keras.datasets.mnist.load_data()"
   ]
  },
  {
   "cell_type": "markdown",
   "metadata": {},
   "source": [
    "**MNIST training set contains 60,000 grayscale images, each 28x28 pixels:**"
   ]
  },
  {
   "cell_type": "code",
   "execution_count": 3,
   "metadata": {},
   "outputs": [
    {
     "data": {
      "text/plain": [
       "(60000, 28, 28)"
      ]
     },
     "execution_count": 3,
     "metadata": {},
     "output_type": "execute_result"
    }
   ],
   "source": [
    "X_train_full.shape"
   ]
  },
  {
   "cell_type": "markdown",
   "metadata": {},
   "source": [
    "**Each pixel intensity is also represented as a byte (0 to 255):**"
   ]
  },
  {
   "cell_type": "code",
   "execution_count": 4,
   "metadata": {},
   "outputs": [
    {
     "data": {
      "text/plain": [
       "dtype('uint8')"
      ]
     },
     "execution_count": 4,
     "metadata": {},
     "output_type": "execute_result"
    }
   ],
   "source": [
    "X_train_full.dtype"
   ]
  },
  {
   "cell_type": "markdown",
   "metadata": {},
   "source": [
    "**Let's split the full training set into a validation set and a (smaller) training set. We also scale the pixel intensities down to the 0-1 range and convert them to floats, by dividing by 255:**"
   ]
  },
  {
   "cell_type": "code",
   "execution_count": 5,
   "metadata": {},
   "outputs": [],
   "source": [
    "X_train_full = X_train_full.astype(np.float32) / 255\n",
    "X_test = X_test.astype(np.float32) / 255"
   ]
  },
  {
   "cell_type": "markdown",
   "metadata": {},
   "source": [
    "**In Deep Learning MLPs, its standard practice to evaluate models by splitting the train set (60000) into both train (55000) and validation (5000).\n",
    "We then can observe the convergence of both loss vs validation loss curves to design deep supervised model that\n",
    "will perform good curve fit on training data.\n",
    "The convergance of loss vs valid loss curves also played a role in designing deep Autoencoder layers\n",
    "and choosing activation functions.**"
   ]
  },
  {
   "cell_type": "code",
   "execution_count": 6,
   "metadata": {},
   "outputs": [],
   "source": [
    "X_train, X_valid = X_train_full[:-5000], X_train_full[-5000:]"
   ]
  },
  {
   "cell_type": "code",
   "execution_count": 7,
   "metadata": {},
   "outputs": [
    {
     "data": {
      "text/plain": [
       "((55000,), (5000,))"
      ]
     },
     "execution_count": 7,
     "metadata": {},
     "output_type": "execute_result"
    }
   ],
   "source": [
    "y_train, y_valid = y_train_full[:-5000], y_train_full[-5000:]\n",
    "y_train.shape, y_valid.shape"
   ]
  },
  {
   "cell_type": "markdown",
   "metadata": {},
   "source": [
    "The validation set contains 5,000 images, and the test set contains 10,000 images:"
   ]
  },
  {
   "cell_type": "code",
   "execution_count": 8,
   "metadata": {},
   "outputs": [
    {
     "data": {
      "text/plain": [
       "(5000, 28, 28)"
      ]
     },
     "execution_count": 8,
     "metadata": {},
     "output_type": "execute_result"
    }
   ],
   "source": [
    "X_valid.shape"
   ]
  },
  {
   "cell_type": "code",
   "execution_count": 9,
   "metadata": {},
   "outputs": [
    {
     "data": {
      "text/plain": [
       "(10000, 28, 28)"
      ]
     },
     "execution_count": 9,
     "metadata": {},
     "output_type": "execute_result"
    }
   ],
   "source": [
    "X_test.shape"
   ]
  },
  {
   "cell_type": "code",
   "execution_count": 10,
   "metadata": {},
   "outputs": [
    {
     "data": {
      "text/plain": [
       "numpy.ndarray"
      ]
     },
     "execution_count": 10,
     "metadata": {},
     "output_type": "execute_result"
    }
   ],
   "source": [
    "type(X_test)"
   ]
  },
  {
   "cell_type": "markdown",
   "metadata": {},
   "source": [
    "**Let's take a look at a sample of X_train images in the dataset:**"
   ]
  },
  {
   "cell_type": "code",
   "execution_count": 11,
   "metadata": {
    "scrolled": true
   },
   "outputs": [
    {
     "data": {
      "image/png": "[encoded data removed]",
      "text/plain": [
       "<Figure size 864x345.6 with 40 Axes>"
      ]
     },
     "metadata": {
      "needs_background": "light"
     },
     "output_type": "display_data"
    }
   ],
   "source": [
    "n_rows = 4\n",
    "n_cols = 10\n",
    "plt.figure(figsize=(n_cols * 1.2, n_rows * 1.2))\n",
    "for row in range(n_rows):\n",
    "    for col in range(n_cols):\n",
    "        index = n_cols * row + col\n",
    "        plt.subplot(n_rows, n_cols, index + 1)\n",
    "        plt.imshow(X_train[index], cmap=\"binary\", interpolation=\"nearest\")\n",
    "        plt.axis('off')\n",
    "plt.subplots_adjust(wspace=0.2, hspace=0.5)\n",
    "plt.show()"
   ]
  },
  {
   "cell_type": "code",
   "execution_count": 13,
   "metadata": {},
   "outputs": [],
   "source": [
    "keras.backend.clear_session()\n",
    "# Separating the encoder and decoder from model\n",
    "stacked_encoder = keras.models.Sequential([\n",
    "    keras.layers.Flatten(input_shape=[28, 28]),\n",
    "    keras.layers.Dropout(0.10),\n",
    "    keras.layers.Dense(394, activation=\"relu\"),\n",
    "    keras.layers.Dense(192, activation=\"relu\"),\n",
    "    keras.layers.Dense(96, activation=\"relu\"),\n",
    "    keras.layers.Dense(48, activation=\"relu\"),\n",
    "    keras.layers.Dense(29, activation=\"relu\")])\n",
    "\n",
    "stacked_decoder = keras.models.Sequential([\n",
    "    keras.layers.Dense(48, activation=\"relu\", input_shape=[29]),\n",
    "    keras.layers.Dense(96, activation=\"relu\"),\n",
    "    keras.layers.Dense(192, activation=\"relu\"),\n",
    "    keras.layers.Dense(394, activation=\"relu\"),\n",
    "    keras.layers.Dense(28*28, activation=\"relu\"),\n",
    "    keras.layers.Reshape([28,28])])"
   ]
  },
  {
   "cell_type": "code",
   "execution_count": 14,
   "metadata": {},
   "outputs": [],
   "source": [
    "# combine both encoder and decoder to become autencoder model\n",
    "stacked_ae = keras.models.Sequential([stacked_encoder, stacked_decoder])"
   ]
  },
  {
   "cell_type": "code",
   "execution_count": 15,
   "metadata": {},
   "outputs": [],
   "source": [
    "stacked_ae.compile(loss=\"MSE\",\n",
    "              optimizer=keras.optimizers.Adam())"
   ]
  },
  {
   "cell_type": "code",
   "execution_count": 16,
   "metadata": {},
   "outputs": [],
   "source": [
    "stacked_encoder.compile(loss=\"MSE\",\n",
    "              optimizer=keras.optimizers.Adam())"
   ]
  },
  {
   "cell_type": "code",
   "execution_count": 17,
   "metadata": {},
   "outputs": [],
   "source": [
    "stacked_decoder.compile(loss=\"MSE\",\n",
    "              optimizer=keras.optimizers.Adam())"
   ]
  },
  {
   "cell_type": "code",
   "execution_count": 18,
   "metadata": {},
   "outputs": [
    {
     "name": "stdout",
     "output_type": "stream",
     "text": [
      "Model: \"sequential\"\n",
      "_________________________________________________________________\n",
      "Layer (type)                 Output Shape              Param #   \n",
      "=================================================================\n",
      "flatten (Flatten)            (None, 784)               0         \n",
      "_________________________________________________________________\n",
      "dropout (Dropout)            (None, 784)               0         \n",
      "_________________________________________________________________\n",
      "dense (Dense)                (None, 394)               309290    \n",
      "_________________________________________________________________\n",
      "dense_1 (Dense)              (None, 192)               75840     \n",
      "_________________________________________________________________\n",
      "dense_2 (Dense)              (None, 96)                18528     \n",
      "_________________________________________________________________\n",
      "dense_3 (Dense)              (None, 48)                4656      \n",
      "_________________________________________________________________\n",
      "dense_4 (Dense)              (None, 29)                1421      \n",
      "=================================================================\n",
      "Total params: 409,735\n",
      "Trainable params: 409,735\n",
      "Non-trainable params: 0\n",
      "_________________________________________________________________\n"
     ]
    }
   ],
   "source": [
    "stacked_encoder.summary()"
   ]
  },
  {
   "cell_type": "code",
   "execution_count": 19,
   "metadata": {},
   "outputs": [
    {
     "name": "stdout",
     "output_type": "stream",
     "text": [
      "Model: \"sequential_1\"\n",
      "_________________________________________________________________\n",
      "Layer (type)                 Output Shape              Param #   \n",
      "=================================================================\n",
      "dense_5 (Dense)              (None, 48)                1440      \n",
      "_________________________________________________________________\n",
      "dense_6 (Dense)              (None, 96)                4704      \n",
      "_________________________________________________________________\n",
      "dense_7 (Dense)              (None, 192)               18624     \n",
      "_________________________________________________________________\n",
      "dense_8 (Dense)              (None, 394)               76042     \n",
      "_________________________________________________________________\n",
      "dense_9 (Dense)              (None, 784)               309680    \n",
      "_________________________________________________________________\n",
      "reshape (Reshape)            (None, 28, 28)            0         \n",
      "=================================================================\n",
      "Total params: 410,490\n",
      "Trainable params: 410,490\n",
      "Non-trainable params: 0\n",
      "_________________________________________________________________\n"
     ]
    }
   ],
   "source": [
    "stacked_decoder.summary()"
   ]
  },
  {
   "cell_type": "markdown",
   "metadata": {},
   "source": [
    "#### We are doing Unsupervised Autoencoder. So, we do not want to use y labels. Therefore, y_train, y_valid, or y_test are not needed for this training model. We will use y_train and y_test for the Supervised MLP:"
   ]
  },
  {
   "cell_type": "code",
   "execution_count": 21,
   "metadata": {
    "scrolled": true
   },
   "outputs": [
    {
     "name": "stdout",
     "output_type": "stream",
     "text": [
      "Train on 55000 samples, validate on 5000 samples\n",
      "Epoch 1/20\n",
      "55000/55000 [==============================] - 7s 123us/sample - loss: 0.0307 - val_loss: 0.0220\n",
      "Epoch 2/20\n",
      "55000/55000 [==============================] - 6s 102us/sample - loss: 0.0202 - val_loss: 0.0177\n",
      "Epoch 3/20\n",
      "55000/55000 [==============================] - 6s 103us/sample - loss: 0.0179 - val_loss: 0.0163\n",
      "Epoch 4/20\n",
      "55000/55000 [==============================] - 5s 99us/sample - loss: 0.0163 - val_loss: 0.0149\n",
      "Epoch 5/20\n",
      "55000/55000 [==============================] - 6s 100us/sample - loss: 0.0153 - val_loss: 0.0148\n",
      "Epoch 6/20\n",
      "55000/55000 [==============================] - 6s 103us/sample - loss: 0.0146 - val_loss: 0.0141\n",
      "Epoch 7/20\n",
      "55000/55000 [==============================] - 6s 101us/sample - loss: 0.0142 - val_loss: 0.0136\n",
      "Epoch 8/20\n",
      "55000/55000 [==============================] - 6s 100us/sample - loss: 0.0139 - val_loss: 0.0135\n",
      "Epoch 9/20\n",
      "55000/55000 [==============================] - 6s 105us/sample - loss: 0.0136 - val_loss: 0.0132\n",
      "Epoch 10/20\n",
      "55000/55000 [==============================] - 6s 103us/sample - loss: 0.0134 - val_loss: 0.0128\n",
      "Epoch 11/20\n",
      "55000/55000 [==============================] - 6s 103us/sample - loss: 0.0131 - val_loss: 0.0125\n",
      "Epoch 12/20\n",
      "55000/55000 [==============================] - 6s 103us/sample - loss: 0.0128 - val_loss: 0.0124\n",
      "Epoch 13/20\n",
      "55000/55000 [==============================] - 6s 102us/sample - loss: 0.0126 - val_loss: 0.0124\n",
      "Epoch 14/20\n",
      "55000/55000 [==============================] - 6s 101us/sample - loss: 0.0124 - val_loss: 0.0125\n",
      "Epoch 15/20\n",
      "55000/55000 [==============================] - 6s 102us/sample - loss: 0.0123 - val_loss: 0.0122\n",
      "Epoch 16/20\n",
      "55000/55000 [==============================] - 6s 102us/sample - loss: 0.0121 - val_loss: 0.0121\n",
      "Epoch 17/20\n",
      "55000/55000 [==============================] - 6s 104us/sample - loss: 0.0121 - val_loss: 0.0119\n",
      "Epoch 18/20\n",
      "55000/55000 [==============================] - 5s 100us/sample - loss: 0.0120 - val_loss: 0.0116\n",
      "Epoch 19/20\n",
      "55000/55000 [==============================] - 6s 101us/sample - loss: 0.0119 - val_loss: 0.0119\n",
      "Epoch 20/20\n",
      "55000/55000 [==============================] - 6s 103us/sample - loss: 0.0118 - val_loss: 0.0113\n"
     ]
    }
   ],
   "source": [
    "# NOTE: Python Kernel needs to be restarted when training again for second time and so on!\n",
    "early_stopping_val_loss = keras.callbacks.EarlyStopping(monitor='val_loss',patience=5)\n",
    "checkpoint_cb = keras.callbacks.ModelCheckpoint(\"ae_mnist_model.h5\", save_best_only=True)\n",
    "stacked_ae_hist = stacked_ae.fit(X_train, X_train, epochs=20,validation_data=(X_valid, X_valid),callbacks=[early_stopping_val_loss, checkpoint_cb])\n",
    "\n",
    "#history = model.fit(X_train, X_train, epochs=20,validation_data=(X_valid, X_valid),callbacks=[early_stopping_val_loss, checkpoint_cb])"
   ]
  },
  {
   "cell_type": "code",
   "execution_count": 22,
   "metadata": {},
   "outputs": [
    {
     "data": {
      "image/png": "[encoded data removed]",
      "text/plain": [
       "<Figure size 432x288 with 1 Axes>"
      ]
     },
     "metadata": {
      "needs_background": "light"
     },
     "output_type": "display_data"
    }
   ],
   "source": [
    "#acc = history.history['accuracy']\n",
    "#val_acc = history.history['val_accuracy']\n",
    "loss = stacked_ae_hist.history['loss']\n",
    "val_loss = stacked_ae_hist.history['val_loss']\n",
    "\n",
    "epochs = range(len(loss))\n",
    "\n",
    "#lt.plot(epochs, acc, 'bo', label='Training acc')\n",
    "#lt.plot(epochs, val_acc, 'b', label='Validation acc', color='red')\n",
    "#lt.title('Training and Validation accuracy')\n",
    "#lt.legend()\n",
    "#plt.savefig('final_curve_fit_acc.png')\n",
    "#lt.figure()\n",
    "\n",
    "plt.plot(epochs, loss, 'bo', label='Training loss')\n",
    "plt.plot(epochs, val_loss, 'b', label='Validation loss', color='red')\n",
    "plt.title('Training and Validation loss')\n",
    "plt.legend()\n",
    "\n",
    "#plt.savefig('final_curve_fit_loss.png')\n",
    "plt.show()"
   ]
  },
  {
   "cell_type": "code",
   "execution_count": 23,
   "metadata": {},
   "outputs": [],
   "source": [
    "def plot_image(image, err):\n",
    "    plt.imshow(image, cmap=\"gray\")\n",
    "    plt.xlabel(format(err,'.4f'))\n",
    "    #fig = px.imshow(image)\n",
    "    #fig.show()\n",
    "    #plt.axis(\"off\")\n",
    "    \n",
    "def show_reconstructions(model, images=X_valid, n_images=12):\n",
    "    reconstructions = model.predict(images[:n_images])\n",
    "    #print(type(reconstructions[1])) # turns out to be type of class numpy.ndarray just like X images \n",
    "    mse_ls = []\n",
    "    pred_ls = []\n",
    "    actual_ls = []\n",
    "    fig = plt.figure(figsize=(n_images * 1.5, 3))\n",
    "    for image_index in range(n_images):\n",
    "        #print(reconstructions[image_index])\n",
    "        #print(images[image_index])\n",
    "        pred = reconstructions[image_index]\n",
    "        actual = images[image_index]\n",
    "        d = np.linalg.norm(pred-actual, axis=0)\n",
    "        # compute MSE\n",
    "        mse = np.mean(np.power(d, 2))\n",
    "        #\n",
    "        pred_ls.append(pred)\n",
    "        actual_ls.append(actual)\n",
    "        mse_ls.append(mse)\n",
    "        #\n",
    "    image_dict = {'pred': pred_ls, 'actual': actual_ls, 'mse': mse_ls}\n",
    "    image_df = pd.DataFrame(data=image_dict)\n",
    "    image_df = image_df.sort_values(by='mse', ascending=False)\n",
    "    # fix/reset indexing for new sorted df and drop orignal index column\n",
    "    image_df = image_df.reset_index(drop=True)\n",
    "        #\n",
    "    for i in range(n_images):\n",
    "        plt.subplot(2, n_images, 1 + i)\n",
    "        plot_image(image_df.actual[i], image_df.mse[i])\n",
    "        plt.subplot(2, n_images, 1 + n_images + i)\n",
    "        plot_image(image_df.pred[i], image_df.mse[i])\n",
    "        #print(mse_images)\n",
    "    return image_df.sort_values(by='mse', ascending=False)   \n",
    "   \n"
   ]
  },
  {
   "cell_type": "markdown",
   "metadata": {},
   "source": [
    "**Relu with MSE shows more degredation around edges**"
   ]
  },
  {
   "cell_type": "code",
   "execution_count": 24,
   "metadata": {
    "scrolled": false
   },
   "outputs": [
    {
     "name": "stdout",
     "output_type": "stream",
     "text": [
      "Top row are Original images and bottom row are Decoded images with loss metric from high to low:\n"
     ]
    },
    {
     "data": {
      "image/png": "[encoded data removed]",
      "text/plain": [
       "<Figure size 1296x216 with 24 Axes>"
      ]
     },
     "metadata": {
      "needs_background": "light"
     },
     "output_type": "display_data"
    }
   ],
   "source": [
    "img_df = show_reconstructions(stacked_ae)\n",
    "print(\"Top row are Original images and bottom row are Decoded images with loss metric from high to low:\")\n",
    "\n",
    "#save_fig(\"reconstruction_plot\")\n",
    "\n",
    "# img_df"
   ]
  },
  {
   "cell_type": "code",
   "execution_count": 25,
   "metadata": {
    "scrolled": false
   },
   "outputs": [
    {
     "name": "stdout",
     "output_type": "stream",
     "text": [
      "Top row are Original images and bottom row are Decoded images with loss metric from high to low:\n"
     ]
    },
    {
     "data": {
      "image/png": "[encoded data removed]",
      "text/plain": [
       "<Figure size 1296x216 with 24 Axes>"
      ]
     },
     "metadata": {
      "needs_background": "light"
     },
     "output_type": "display_data"
    }
   ],
   "source": [
    "test_img_df = show_reconstructions(stacked_ae, X_test, 12)\n",
    "print(\"Top row are Original images and bottom row are Decoded images with loss metric from high to low:\")\n",
    "#save_fig(\"reconstruction_plot\")\n",
    "# test_img_df.head(12)"
   ]
  },
  {
   "cell_type": "markdown",
   "metadata": {},
   "source": [
    "**We will extract new features from the Stacked Autoencoder by useing two methods and compare the results to make sure they're identical. One method is simply using the predict function of the Encoder and the other method is using the Keras.function() method**"
   ]
  },
  {
   "cell_type": "code",
   "execution_count": 26,
   "metadata": {
    "scrolled": true
   },
   "outputs": [
    {
     "data": {
      "text/plain": [
       "((10000, 29),\n",
       " array([[0.        , 0.38644382, 0.        , ..., 0.6728632 , 0.        ,\n",
       "         1.0480705 ],\n",
       "        [0.        , 3.4856048 , 0.        , ..., 2.61659   , 0.        ,\n",
       "         2.4575853 ],\n",
       "        [0.        , 1.1485655 , 0.        , ..., 0.47798753, 0.        ,\n",
       "         0.28481618],\n",
       "        ...,\n",
       "        [0.        , 2.4009945 , 0.        , ..., 2.5431511 , 0.        ,\n",
       "         2.1156757 ],\n",
       "        [0.        , 2.3883057 , 0.        , ..., 2.8368893 , 0.        ,\n",
       "         1.5532684 ],\n",
       "        [0.        , 4.405038  , 0.        , ..., 2.9875336 , 0.        ,\n",
       "         2.8384588 ]], dtype=float32))"
      ]
     },
     "execution_count": 26,
     "metadata": {},
     "output_type": "execute_result"
    }
   ],
   "source": [
    "stacked_encoder.predict(X_test).shape, stacked_encoder.predict(X_test)"
   ]
  },
  {
   "cell_type": "code",
   "execution_count": 27,
   "metadata": {},
   "outputs": [
    {
     "name": "stderr",
     "output_type": "stream",
     "text": [
      "Using TensorFlow backend.\n"
     ]
    },
    {
     "name": "stdout",
     "output_type": "stream",
     "text": [
      "(10000, 29) [[0.         0.38644385 0.         ... 0.6728633  0.         1.0480719 ]\n",
      " [0.         3.4856048  0.         ... 2.6165895  0.         2.457584  ]\n",
      " [0.         1.1485658  0.         ... 0.47798756 0.         0.284816  ]\n",
      " ...\n",
      " [0.         2.4009945  0.         ... 2.5431504  0.         2.1156754 ]\n",
      " [0.         2.388306   0.         ... 2.8368886  0.         1.5532686 ]\n",
      " [0.         4.405039   0.         ... 2.9875333  0.         2.8384583 ]]\n",
      "(5000, 29) [[0.         1.2897344  0.         ... 1.1515198  0.         0.94729435]\n",
      " [0.         2.4156702  0.         ... 2.9845643  0.         1.2724777 ]\n",
      " [0.         1.5917803  0.         ... 1.479903   0.         2.5636144 ]\n",
      " ...\n",
      " [0.         1.3596503  0.         ... 0.9921968  0.         4.218295  ]\n",
      " [0.         2.0869114  0.         ... 1.4478104  0.         1.5790315 ]\n",
      " [0.         0.5771616  0.         ... 1.768304   0.         1.3724117 ]]\n",
      "(55000, 29) [[0.         3.0129974  0.         ... 0.5661874  0.         4.2914376 ]\n",
      " [0.         0.5801609  0.         ... 1.3093896  0.         2.6399055 ]\n",
      " [0.         0.7648323  0.         ... 2.6195219  0.         1.6605744 ]\n",
      " ...\n",
      " [0.         2.1853523  0.         ... 2.312325   0.         2.82252   ]\n",
      " [0.         0.62956774 0.         ... 2.5715203  0.         1.7705631 ]\n",
      " [0.         2.4865522  0.         ... 2.6107674  0.         2.757454  ]]\n"
     ]
    }
   ],
   "source": [
    "# REFERENCE: https://keras.io/getting-started/faq/#how-can-i-obtain-the-output-of-an-intermediate-layer\n",
    "from keras import backend as K\n",
    "\n",
    "# with a Sequential model\n",
    "get_3rd_layer_output = K.function([stacked_encoder.layers[0].input, K.learning_phase()],\n",
    "                                  [stacked_encoder.layers[6].output])\n",
    "\n",
    "# output in test mode = 0\n",
    "stacked_encoder_layer_output_test = get_3rd_layer_output([X_test, 0])[0]\n",
    "print(stacked_encoder_layer_output_test.shape, stacked_encoder_layer_output_test)\n",
    "\n",
    "# output in valid/test mode = 0\n",
    "stacked_encoder_layer_output_val = get_3rd_layer_output([X_valid, 0])[0]\n",
    "print(stacked_encoder_layer_output_val.shape, stacked_encoder_layer_output_val)\n",
    "\n",
    "# output in train mode = 1\n",
    "stacked_encoder_layer_output_train = get_3rd_layer_output([X_train, 1])[0]\n",
    "print(stacked_encoder_layer_output_train.shape, stacked_encoder_layer_output_train)\n",
    "\n",
    "\n",
    "# output in test mode = 0\n",
    "# USE THIS to combine with original data set\n",
    "#layer_output_test = get_3rd_layer_output([X_test, 0])[0]"
   ]
  },
  {
   "cell_type": "markdown",
   "metadata": {},
   "source": [
    "**We see that the both methods extracted the middle layer of Autoencoder which has 29 new (or 'fake') features and it will be added to the original MNIST data set**"
   ]
  },
  {
   "cell_type": "markdown",
   "metadata": {},
   "source": [
    "**We now reshape data sets from 3d to 2d so we can later add 29 features to them.**"
   ]
  },
  {
   "cell_type": "code",
   "execution_count": 28,
   "metadata": {},
   "outputs": [
    {
     "data": {
      "text/plain": [
       "((10000, 784),\n",
       " array([[0., 0., 0., ..., 0., 0., 0.],\n",
       "        [0., 0., 0., ..., 0., 0., 0.],\n",
       "        [0., 0., 0., ..., 0., 0., 0.],\n",
       "        ...,\n",
       "        [0., 0., 0., ..., 0., 0., 0.],\n",
       "        [0., 0., 0., ..., 0., 0., 0.],\n",
       "        [0., 0., 0., ..., 0., 0., 0.]], dtype=float32))"
      ]
     },
     "execution_count": 28,
     "metadata": {},
     "output_type": "execute_result"
    }
   ],
   "source": [
    "X_test_2d = X_test.reshape((-1, X_test.shape[1]*X_test.shape[2]))\n",
    "X_test_2d.shape, X_test_2d"
   ]
  },
  {
   "cell_type": "code",
   "execution_count": 29,
   "metadata": {},
   "outputs": [
    {
     "data": {
      "text/plain": [
       "((10000, 28, 28), (10000, 784), (10000, 29))"
      ]
     },
     "execution_count": 29,
     "metadata": {},
     "output_type": "execute_result"
    }
   ],
   "source": [
    "X_test.shape, X_test_2d.shape, stacked_encoder_layer_output_test.shape"
   ]
  },
  {
   "cell_type": "code",
   "execution_count": 30,
   "metadata": {
    "scrolled": true
   },
   "outputs": [
    {
     "data": {
      "text/plain": [
       "((55000, 784),\n",
       " array([[0., 0., 0., ..., 0., 0., 0.],\n",
       "        [0., 0., 0., ..., 0., 0., 0.],\n",
       "        [0., 0., 0., ..., 0., 0., 0.],\n",
       "        ...,\n",
       "        [0., 0., 0., ..., 0., 0., 0.],\n",
       "        [0., 0., 0., ..., 0., 0., 0.],\n",
       "        [0., 0., 0., ..., 0., 0., 0.]], dtype=float32))"
      ]
     },
     "execution_count": 30,
     "metadata": {},
     "output_type": "execute_result"
    }
   ],
   "source": [
    "X_train_2d = X_train.reshape((-1, X_train.shape[1]*X_train.shape[2]))\n",
    "X_train_2d.shape, X_train_2d"
   ]
  },
  {
   "cell_type": "code",
   "execution_count": 31,
   "metadata": {
    "scrolled": true
   },
   "outputs": [
    {
     "data": {
      "text/plain": [
       "((5000, 784),\n",
       " array([[0., 0., 0., ..., 0., 0., 0.],\n",
       "        [0., 0., 0., ..., 0., 0., 0.],\n",
       "        [0., 0., 0., ..., 0., 0., 0.],\n",
       "        ...,\n",
       "        [0., 0., 0., ..., 0., 0., 0.],\n",
       "        [0., 0., 0., ..., 0., 0., 0.],\n",
       "        [0., 0., 0., ..., 0., 0., 0.]], dtype=float32))"
      ]
     },
     "execution_count": 31,
     "metadata": {},
     "output_type": "execute_result"
    }
   ],
   "source": [
    "X_valid_2d = X_valid.reshape((-1, X_valid.shape[1]*X_valid.shape[2]))\n",
    "X_valid_2d.shape, X_valid_2d"
   ]
  },
  {
   "cell_type": "markdown",
   "metadata": {},
   "source": [
    "**We start adding 29 features to Train, Valid and Test sets**"
   ]
  },
  {
   "cell_type": "code",
   "execution_count": 32,
   "metadata": {},
   "outputs": [
    {
     "data": {
      "text/plain": [
       "(55000, 813)"
      ]
     },
     "execution_count": 32,
     "metadata": {},
     "output_type": "execute_result"
    }
   ],
   "source": [
    "X_train_2d_new = np.hstack((X_train_2d, stacked_encoder_layer_output_train))\n",
    "X_train_2d_new.shape"
   ]
  },
  {
   "cell_type": "code",
   "execution_count": 33,
   "metadata": {
    "scrolled": true
   },
   "outputs": [
    {
     "data": {
      "text/plain": [
       "(5000, 813)"
      ]
     },
     "execution_count": 33,
     "metadata": {},
     "output_type": "execute_result"
    }
   ],
   "source": [
    "X_valid_2d_new = np.hstack((X_valid_2d, stacked_encoder_layer_output_val))\n",
    "X_valid_2d_new.shape"
   ]
  },
  {
   "cell_type": "code",
   "execution_count": 34,
   "metadata": {},
   "outputs": [
    {
     "data": {
      "text/plain": [
       "(10000, 813)"
      ]
     },
     "execution_count": 34,
     "metadata": {},
     "output_type": "execute_result"
    }
   ],
   "source": [
    "X_test_2d_new = np.hstack((X_test_2d, stacked_encoder_layer_output_test))\n",
    "X_test_2d_new.shape"
   ]
  },
  {
   "cell_type": "markdown",
   "metadata": {},
   "source": [
    "**We created a Multi-layered Supervised model (called super_model) to train and test on the MNIST data set. We will first perform training and testing on the combined 29 plus 784 features. Then compare those results to the training and testing of only the original 784 features:** "
   ]
  },
  {
   "cell_type": "code",
   "execution_count": 35,
   "metadata": {},
   "outputs": [
    {
     "name": "stdout",
     "output_type": "stream",
     "text": [
      "Train on 55000 samples, validate on 5000 samples\n",
      "Epoch 1/20\n",
      "55000/55000 [==============================] - 5s 98us/sample - loss: 0.4201 - accuracy: 0.8720 - val_loss: 0.1358 - val_accuracy: 0.9620\n",
      "Epoch 2/20\n",
      "55000/55000 [==============================] - 5s 88us/sample - loss: 0.2263 - accuracy: 0.9318 - val_loss: 0.1300 - val_accuracy: 0.9634\n",
      "Epoch 3/20\n",
      "55000/55000 [==============================] - 5s 89us/sample - loss: 0.1842 - accuracy: 0.9448 - val_loss: 0.1201 - val_accuracy: 0.9652\n",
      "Epoch 4/20\n",
      "55000/55000 [==============================] - 5s 93us/sample - loss: 0.1661 - accuracy: 0.9497 - val_loss: 0.1140 - val_accuracy: 0.9650\n",
      "Epoch 5/20\n",
      "55000/55000 [==============================] - 5s 92us/sample - loss: 0.1509 - accuracy: 0.9534 - val_loss: 0.0837 - val_accuracy: 0.9786\n",
      "Epoch 6/20\n",
      "55000/55000 [==============================] - 5s 97us/sample - loss: 0.1384 - accuracy: 0.9576 - val_loss: 0.0971 - val_accuracy: 0.9720\n",
      "Epoch 7/20\n",
      "55000/55000 [==============================] - 5s 93us/sample - loss: 0.1265 - accuracy: 0.9613 - val_loss: 0.0840 - val_accuracy: 0.9742\n",
      "Epoch 8/20\n",
      "55000/55000 [==============================] - 5s 83us/sample - loss: 0.1233 - accuracy: 0.9621 - val_loss: 0.0963 - val_accuracy: 0.9728\n",
      "Epoch 9/20\n",
      "55000/55000 [==============================] - 5s 89us/sample - loss: 0.1131 - accuracy: 0.9659 - val_loss: 0.0860 - val_accuracy: 0.9772\n",
      "Epoch 10/20\n",
      "55000/55000 [==============================] - 5s 88us/sample - loss: 0.1098 - accuracy: 0.9672 - val_loss: 0.0756 - val_accuracy: 0.9784\n",
      "Epoch 11/20\n",
      "55000/55000 [==============================] - 5s 83us/sample - loss: 0.1046 - accuracy: 0.9691 - val_loss: 0.0879 - val_accuracy: 0.9754\n",
      "Epoch 12/20\n",
      "55000/55000 [==============================] - 5s 85us/sample - loss: 0.0965 - accuracy: 0.9699 - val_loss: 0.0836 - val_accuracy: 0.9768\n",
      "Epoch 13/20\n",
      "55000/55000 [==============================] - 5s 87us/sample - loss: 0.0977 - accuracy: 0.9703 - val_loss: 0.0844 - val_accuracy: 0.9746\n",
      "Epoch 14/20\n",
      "55000/55000 [==============================] - 5s 84us/sample - loss: 0.0938 - accuracy: 0.9715 - val_loss: 0.0766 - val_accuracy: 0.9766\n",
      "Epoch 15/20\n",
      "55000/55000 [==============================] - 5s 82us/sample - loss: 0.0883 - accuracy: 0.9733 - val_loss: 0.0836 - val_accuracy: 0.9770\n"
     ]
    },
    {
     "data": {
      "image/png": "[encoded data removed]",
      "text/plain": [
       "<Figure size 432x288 with 1 Axes>"
      ]
     },
     "metadata": {
      "needs_background": "light"
     },
     "output_type": "display_data"
    },
    {
     "data": {
      "image/png": "[encoded data removed]",
      "text/plain": [
       "<Figure size 432x288 with 1 Axes>"
      ]
     },
     "metadata": {
      "needs_background": "light"
     },
     "output_type": "display_data"
    }
   ],
   "source": [
    "keras.backend.clear_session()\n",
    "# This super model uses the new 29 features added to 784\n",
    "new_super_model = keras.models.Sequential([\n",
    "    keras.layers.Flatten(input_shape=(813,)),\n",
    "    keras.layers.Dense(40, activation=\"selu\"),\n",
    "    keras.layers.Dropout(0.10),\n",
    "    keras.layers.Dense(60, activation=\"selu\"),\n",
    "    keras.layers.Dropout(0.10),\n",
    "    keras.layers.Dense(80, activation=\"selu\"),\n",
    "    keras.layers.Dropout(0.10),\n",
    "    keras.layers.Dense(58, activation=\"selu\"),\n",
    "    keras.layers.Dropout(0.10),\n",
    "    keras.layers.Dense(38, activation=\"selu\"),\n",
    "    keras.layers.Dense(10, activation=\"sigmoid\")])\n",
    "\n",
    "\n",
    "\n",
    "new_super_model.compile(loss=\"sparse_categorical_crossentropy\",\n",
    "              optimizer=keras.optimizers.Adam(),\n",
    "              metrics=[\"accuracy\"])\n",
    "\n",
    "# This will check loss trend and stop if trend does not change\n",
    "early_stopping_cb = keras.callbacks.EarlyStopping(patience=5)\n",
    "# This will rollback and save best model fit checkpoint\n",
    "checkpoint_cb = keras.callbacks.ModelCheckpoint(\"new_mnist_super_model.h5\", save_best_only=True)\n",
    "\n",
    "# We are using both the X_train_2d_new and X_valid_2d_new dataset which has the new 29 features added to 784\n",
    "new_super_history = new_super_model.fit(X_train_2d_new, y_train, epochs=20,\n",
    "                    validation_data=(X_valid_2d_new, y_valid),\n",
    "                    callbacks=[early_stopping_cb, checkpoint_cb])\n",
    "\n",
    "# Removed # validation_data=(X_valid, y_valid), # from super_history\n",
    "# Removed # callbacks=[early_stopping_cb, checkpoint_cb]) # uses val_loss\n",
    "\n",
    "new_acc = new_super_history.history['accuracy']\n",
    "new_val_acc = new_super_history.history['val_accuracy']\n",
    "new_loss = new_super_history.history['loss']\n",
    "new_val_loss = new_super_history.history['val_loss']\n",
    "\n",
    "new_epochs = range(len(new_loss))\n",
    "\n",
    "plt.plot(new_epochs, new_acc, 'bo', label='Training acc')\n",
    "plt.plot(new_epochs, new_val_acc, 'b', label='Validation acc', color='red')\n",
    "plt.title('Training and Validation accuracy')\n",
    "plt.legend()\n",
    "#plt.savefig('final_curve_fit_acc.png')\n",
    "plt.figure()\n",
    "\n",
    "plt.plot(new_epochs, new_loss, 'bo', label='Training loss')\n",
    "plt.plot(new_epochs, new_val_loss, 'b', label='Validation loss', color='red')\n",
    "plt.title('Training and Validation loss')\n",
    "plt.legend()\n",
    "\n",
    "#plt.savefig('final_curve_fit_loss.png')\n",
    "plt.show()"
   ]
  },
  {
   "cell_type": "code",
   "execution_count": 36,
   "metadata": {},
   "outputs": [
    {
     "name": "stdout",
     "output_type": "stream",
     "text": [
      "10000/10000 [==============================] - 1s 61us/sample - loss: 0.0919 - accuracy: 0.9728s - loss: 0.1068 - accura\n"
     ]
    },
    {
     "data": {
      "text/plain": [
       "[0.09187966746129096, 0.9728]"
      ]
     },
     "execution_count": 36,
     "metadata": {},
     "output_type": "execute_result"
    }
   ],
   "source": [
    "new_super_model = keras.models.load_model(\"new_mnist_super_model.h5\") # rollback to best model\n",
    "new_super_model.evaluate(X_test_2d_new, y_test)"
   ]
  },
  {
   "cell_type": "code",
   "execution_count": 37,
   "metadata": {},
   "outputs": [],
   "source": [
    "new_test_pred = new_super_model.predict(X_test_2d_new)"
   ]
  },
  {
   "cell_type": "code",
   "execution_count": null,
   "metadata": {},
   "outputs": [],
   "source": []
  },
  {
   "cell_type": "code",
   "execution_count": 38,
   "metadata": {},
   "outputs": [
    {
     "name": "stdout",
     "output_type": "stream",
     "text": [
      "Train on 55000 samples, validate on 5000 samples\n",
      "Epoch 1/20\n",
      "55000/55000 [==============================] - 5s 99us/sample - loss: 0.4560 - accuracy: 0.8612 - val_loss: 0.1573 - val_accuracy: 0.9528\n",
      "Epoch 2/20\n",
      "55000/55000 [==============================] - 5s 91us/sample - loss: 0.2645 - accuracy: 0.9209 - val_loss: 0.1307 - val_accuracy: 0.9604\n",
      "Epoch 3/20\n",
      "55000/55000 [==============================] - 5s 84us/sample - loss: 0.2264 - accuracy: 0.9318 - val_loss: 0.1255 - val_accuracy: 0.9662\n",
      "Epoch 4/20\n",
      "55000/55000 [==============================] - 5s 87us/sample - loss: 0.1968 - accuracy: 0.9400 - val_loss: 0.1174 - val_accuracy: 0.9642\n",
      "Epoch 5/20\n",
      "55000/55000 [==============================] - 5s 87us/sample - loss: 0.1755 - accuracy: 0.9459 - val_loss: 0.1022 - val_accuracy: 0.9706\n",
      "Epoch 6/20\n",
      "55000/55000 [==============================] - 5s 85us/sample - loss: 0.1634 - accuracy: 0.9504 - val_loss: 0.0895 - val_accuracy: 0.9730\n",
      "Epoch 7/20\n",
      "55000/55000 [==============================] - 5s 87us/sample - loss: 0.1501 - accuracy: 0.9534 - val_loss: 0.0923 - val_accuracy: 0.9728\n",
      "Epoch 8/20\n",
      "55000/55000 [==============================] - 5s 88us/sample - loss: 0.1413 - accuracy: 0.9570 - val_loss: 0.0883 - val_accuracy: 0.9732\n",
      "Epoch 9/20\n",
      "55000/55000 [==============================] - 5s 88us/sample - loss: 0.1337 - accuracy: 0.9599 - val_loss: 0.0918 - val_accuracy: 0.9734\n",
      "Epoch 10/20\n",
      "55000/55000 [==============================] - 5s 92us/sample - loss: 0.1283 - accuracy: 0.9613 - val_loss: 0.0859 - val_accuracy: 0.9750\n",
      "Epoch 11/20\n",
      "55000/55000 [==============================] - 5s 87us/sample - loss: 0.1235 - accuracy: 0.9615 - val_loss: 0.0874 - val_accuracy: 0.9744\n",
      "Epoch 12/20\n",
      "55000/55000 [==============================] - 5s 84us/sample - loss: 0.1175 - accuracy: 0.9638 - val_loss: 0.1009 - val_accuracy: 0.9706\n",
      "Epoch 13/20\n",
      "55000/55000 [==============================] - 5s 82us/sample - loss: 0.1127 - accuracy: 0.9649 - val_loss: 0.0898 - val_accuracy: 0.9720\n",
      "Epoch 14/20\n",
      "55000/55000 [==============================] - 5s 87us/sample - loss: 0.1074 - accuracy: 0.9669 - val_loss: 0.0828 - val_accuracy: 0.9748\n",
      "Epoch 15/20\n",
      "55000/55000 [==============================] - 5s 82us/sample - loss: 0.1023 - accuracy: 0.9682 - val_loss: 0.0838 - val_accuracy: 0.9774\n",
      "Epoch 16/20\n",
      "55000/55000 [==============================] - 5s 84us/sample - loss: 0.0986 - accuracy: 0.9696 - val_loss: 0.0847 - val_accuracy: 0.9756\n",
      "Epoch 17/20\n",
      "55000/55000 [==============================] - 5s 89us/sample - loss: 0.1008 - accuracy: 0.9693 - val_loss: 0.0828 - val_accuracy: 0.9782\n",
      "Epoch 18/20\n",
      "55000/55000 [==============================] - 5s 84us/sample - loss: 0.0985 - accuracy: 0.9694 - val_loss: 0.0863 - val_accuracy: 0.9752\n",
      "Epoch 19/20\n",
      "55000/55000 [==============================] - 4s 82us/sample - loss: 0.0936 - accuracy: 0.9710 - val_loss: 0.0846 - val_accuracy: 0.9750\n",
      "Epoch 20/20\n",
      "55000/55000 [==============================] - 5s 86us/sample - loss: 0.0915 - accuracy: 0.9717 - val_loss: 0.0789 - val_accuracy: 0.9768\n"
     ]
    },
    {
     "data": {
      "image/png": "[encoded data removed]",
      "text/plain": [
       "<Figure size 432x288 with 1 Axes>"
      ]
     },
     "metadata": {
      "needs_background": "light"
     },
     "output_type": "display_data"
    },
    {
     "data": {
      "image/png": "[encoded data removed]",
      "text/plain": [
       "<Figure size 432x288 with 1 Axes>"
      ]
     },
     "metadata": {
      "needs_background": "light"
     },
     "output_type": "display_data"
    }
   ],
   "source": [
    "keras.backend.clear_session()\n",
    "# This super model uses only the original 784 features\n",
    "super_model = keras.models.Sequential([\n",
    "    keras.layers.Flatten(input_shape=[28, 28]),\n",
    "    keras.layers.Dense(40, activation=\"selu\"),\n",
    "    keras.layers.Dropout(0.10),\n",
    "    keras.layers.Dense(60, activation=\"selu\"),\n",
    "    keras.layers.Dropout(0.10),\n",
    "    keras.layers.Dense(80, activation=\"selu\"),\n",
    "    keras.layers.Dropout(0.10),\n",
    "    keras.layers.Dense(58, activation=\"selu\"),\n",
    "    keras.layers.Dropout(0.10),\n",
    "    keras.layers.Dense(38, activation=\"selu\"),\n",
    "    keras.layers.Dense(10, activation=\"sigmoid\")])\n",
    "\n",
    "super_model.compile(loss=\"sparse_categorical_crossentropy\",\n",
    "              optimizer=keras.optimizers.Adam(),\n",
    "              metrics=[\"accuracy\"])\n",
    "\n",
    "# This will check loss trend and stop if trend does not change\n",
    "early_stopping_cb = keras.callbacks.EarlyStopping(patience=5)\n",
    "# This will rollback and save best model fit checkpoint\n",
    "checkpoint_cb = keras.callbacks.ModelCheckpoint(\"mnist_super_model.h5\", save_best_only=True)\n",
    "\n",
    "\n",
    "super_history = super_model.fit(X_train, y_train, epochs=20,\n",
    "                    validation_data=(X_valid, y_valid),\n",
    "                    callbacks=[early_stopping_cb, checkpoint_cb])\n",
    "\n",
    "# Removed # validation_data=(X_valid, y_valid), # from super_history\n",
    "# Removed # callbacks=[early_stopping_cb, checkpoint_cb]) # uses val_loss\n",
    "\n",
    "acc = super_history.history['accuracy']\n",
    "val_acc = super_history.history['val_accuracy']\n",
    "loss = super_history.history['loss']\n",
    "val_loss = super_history.history['val_loss']\n",
    "\n",
    "epochs = range(len(loss))\n",
    "\n",
    "plt.plot(epochs, acc, 'bo', label='Training acc')\n",
    "plt.plot(epochs, val_acc, 'b', label='Validation acc', color='red')\n",
    "plt.title('Training and Validation accuracy')\n",
    "plt.legend()\n",
    "#plt.savefig('final_curve_fit_acc.png')\n",
    "plt.figure()\n",
    "\n",
    "plt.plot(epochs, loss, 'bo', label='Training loss')\n",
    "plt.plot(epochs, val_loss, 'b', label='Validation loss', color='red')\n",
    "plt.title('Training and Validation loss')\n",
    "plt.legend()\n",
    "\n",
    "#plt.savefig('final_curve_fit_loss.png')\n",
    "plt.show()"
   ]
  },
  {
   "cell_type": "code",
   "execution_count": 39,
   "metadata": {
    "scrolled": true
   },
   "outputs": [
    {
     "name": "stdout",
     "output_type": "stream",
     "text": [
      "10000/10000 [==============================] - 1s 84us/sample - loss: 0.0968 - accuracy: 0.9737\n"
     ]
    },
    {
     "data": {
      "text/plain": [
       "[0.09680552360201254, 0.9737]"
      ]
     },
     "execution_count": 39,
     "metadata": {},
     "output_type": "execute_result"
    }
   ],
   "source": [
    "super_model = keras.models.load_model(\"mnist_super_model.h5\") # rollback to best model\n",
    "super_model.evaluate(X_test, y_test)"
   ]
  },
  {
   "cell_type": "markdown",
   "metadata": {},
   "source": [
    "**We are just observing how the small sample of test data performs on super_model predictions:**"
   ]
  },
  {
   "cell_type": "code",
   "execution_count": 40,
   "metadata": {},
   "outputs": [],
   "source": [
    "# Using the super_model (original 784 features) to observe small sample of predictions\n",
    "pred = super_model.predict(X_test)"
   ]
  },
  {
   "cell_type": "code",
   "execution_count": 41,
   "metadata": {},
   "outputs": [],
   "source": [
    "missed_idx = []\n",
    "correct_idx = []\n",
    "pred_rnk_1 = []\n",
    "pred_rnk_2 = []\n",
    "missed = 0\n",
    "correct = 0\n",
    "for idx in range(0, 10000):\n",
    "    pred_idxsort = pred[idx].argsort()\n",
    "    pred_rnk_1.append(pred_idxsort[-1])\n",
    "    pred_rnk_2.append(pred_idxsort[-2])\n",
    "    if (y_test[idx] != pred_idxsort[-1]):\n",
    "        missed_idx.append(idx)\n",
    "        #print(idx,'',y_test[idx],'',pred_rnk_1,'',pred_rnk_2)\n",
    "        missed+=1\n",
    "    else:\n",
    "        correct_idx.append(idx)\n",
    "        #print(idx,'',y_test[idx],'',pred_rnk_1,'',pred_rnk_2)\n",
    "        correct+=1"
   ]
  },
  {
   "cell_type": "code",
   "execution_count": 42,
   "metadata": {},
   "outputs": [],
   "source": [
    "incorrect_indices = missed_idx\n",
    "correct_indices = correct_idx\n",
    "testX = X_test\n",
    "testy = y_test\n",
    "predicted_classes = pred_rnk_1"
   ]
  },
  {
   "cell_type": "code",
   "execution_count": 43,
   "metadata": {},
   "outputs": [
    {
     "data": {
      "image/png": "[encoded data removed]",
      "text/plain": [
       "<Figure size 504x1008 with 18 Axes>"
      ]
     },
     "metadata": {},
     "output_type": "display_data"
    }
   ],
   "source": [
    "# adapt figure size to accomodate 18 subplots\n",
    "plt.rcParams['figure.figsize'] = (7,14)\n",
    "\n",
    "figure_evaluation = plt.figure()\n",
    "\n",
    "# plot 9 correct predictions\n",
    "for i, correct in enumerate(correct_indices[:9]):\n",
    "    plt.subplot(6,3,i+1)\n",
    "    plt.imshow(testX[correct].reshape(28,28), cmap='gray', interpolation='none')\n",
    "    plt.title(\n",
    "      \"Predicted: {}, Truth: {}\".format(predicted_classes[correct],\n",
    "                                        testy[correct]))\n",
    "    plt.xticks([])\n",
    "    plt.yticks([])\n",
    "\n",
    "# plot 9 incorrect predictions\n",
    "for i, incorrect in enumerate(incorrect_indices[:9]):\n",
    "    plt.subplot(6,3,i+10)\n",
    "    plt.imshow(testX[incorrect].reshape(28,28), cmap='gray', interpolation='none')\n",
    "    plt.title(\n",
    "      \"Predicted {}, Truth: {}\".format(predicted_classes[incorrect], \n",
    "                                       testy[incorrect]))\n",
    "    plt.xticks([])\n",
    "    plt.yticks([])"
   ]
  },
  {
   "cell_type": "code",
   "execution_count": 44,
   "metadata": {},
   "outputs": [],
   "source": [
    "# Using the new_super_model (29 plus 784 features) to observe small sample of predictions\n",
    "new_pred = new_super_model.predict(X_test_2d_new)\n",
    "pred = new_pred"
   ]
  },
  {
   "cell_type": "code",
   "execution_count": 45,
   "metadata": {},
   "outputs": [
    {
     "data": {
      "image/png": "[encoded data removed]",
      "text/plain": [
       "<Figure size 504x1008 with 18 Axes>"
      ]
     },
     "metadata": {},
     "output_type": "display_data"
    }
   ],
   "source": [
    "missed_idx = []\n",
    "correct_idx = []\n",
    "pred_rnk_1 = []\n",
    "pred_rnk_2 = []\n",
    "missed = 0\n",
    "correct = 0\n",
    "for idx in range(0, 10000):\n",
    "    pred_idxsort = pred[idx].argsort()\n",
    "    pred_rnk_1.append(pred_idxsort[-1])\n",
    "    pred_rnk_2.append(pred_idxsort[-2])\n",
    "    if (y_test[idx] != pred_idxsort[-1]):\n",
    "        missed_idx.append(idx)\n",
    "        #print(idx,'',y_test[idx],'',pred_rnk_1,'',pred_rnk_2)\n",
    "        missed+=1\n",
    "    else:\n",
    "        correct_idx.append(idx)\n",
    "        #print(idx,'',y_test[idx],'',pred_rnk_1,'',pred_rnk_2)\n",
    "        correct+=1\n",
    "        \n",
    "incorrect_indices = missed_idx\n",
    "correct_indices = correct_idx\n",
    "testX = X_test\n",
    "testy = y_test\n",
    "predicted_classes = pred_rnk_1\n",
    "\n",
    "# adapt figure size to accomodate 18 subplots\n",
    "plt.rcParams['figure.figsize'] = (7,14)\n",
    "\n",
    "figure_evaluation = plt.figure()\n",
    "\n",
    "# plot 9 correct predictions\n",
    "for i, correct in enumerate(correct_indices[:9]):\n",
    "    plt.subplot(6,3,i+1)\n",
    "    plt.imshow(testX[correct].reshape(28,28), cmap='gray', interpolation='none')\n",
    "    plt.title(\n",
    "      \"Predicted: {}, Truth: {}\".format(predicted_classes[correct],\n",
    "                                        testy[correct]))\n",
    "    plt.xticks([])\n",
    "    plt.yticks([])\n",
    "\n",
    "# plot 9 incorrect predictions\n",
    "for i, incorrect in enumerate(incorrect_indices[:9]):\n",
    "    plt.subplot(6,3,i+10)\n",
    "    plt.imshow(testX[incorrect].reshape(28,28), cmap='gray', interpolation='none')\n",
    "    plt.title(\n",
    "      \"Predicted {}, Truth: {}\".format(predicted_classes[incorrect], \n",
    "                                       testy[incorrect]))\n",
    "    plt.xticks([])\n",
    "    plt.yticks([])"
   ]
  },
  {
   "cell_type": "code",
   "execution_count": 46,
   "metadata": {},
   "outputs": [
    {
     "data": {
      "text/plain": [
       "6.255339543024699"
      ]
     },
     "execution_count": 46,
     "metadata": {},
     "output_type": "execute_result"
    }
   ],
   "source": [
    "# Get total runtime in minutes\n",
    "(time.time() - start_time)/60"
   ]
  },
  {
   "cell_type": "code",
   "execution_count": null,
   "metadata": {},
   "outputs": [],
   "source": []
  }
 ],
 "metadata": {
  "kernelspec": {
   "display_name": "Python 3",
   "language": "python",
   "name": "python3"
  },
  "language_info": {
   "codemirror_mode": {
    "name": "ipython",
    "version": 3
   },
   "file_extension": ".py",
   "mimetype": "text/x-python",
   "name": "python",
   "nbconvert_exporter": "python",
   "pygments_lexer": "ipython3",
   "version": "3.6.10"
  }
 },
 "nbformat": 4,
 "nbformat_minor": 4
}
