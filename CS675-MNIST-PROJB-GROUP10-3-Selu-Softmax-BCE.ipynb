{
 "cells": [
  {
   "cell_type": "code",
   "execution_count": 1,
   "metadata": {},
   "outputs": [],
   "source": [
    "import time\n",
    "# Start run time\n",
    "start_time = time.time()\n",
    "\n",
    "# Python ≥3.5 is required\n",
    "import sys\n",
    "assert sys.version_info >= (3, 5)\n",
    "\n",
    "# Scikit-Learn ≥0.20 is required\n",
    "import sklearn\n",
    "assert sklearn.__version__ >= \"0.20\"\n",
    "\n",
    "try:\n",
    "    # %tensorflow_version only exists in Colab.\n",
    "    %tensorflow_version 2.x\n",
    "except Exception:\n",
    "    pass\n",
    "\n",
    "# TensorFlow ≥2.0 is required\n",
    "import tensorflow as tf\n",
    "from tensorflow import keras\n",
    "assert tf.__version__ >= \"2.0\"\n",
    "\n",
    "# Common imports\n",
    "import pandas as pd\n",
    "import numpy as np\n",
    "import os\n",
    "\n",
    "# to make this notebook's output stable across runs\n",
    "np.random.seed(42)\n",
    "tf.random.set_seed(42)\n",
    "\n",
    "# To plot pretty figures\n",
    "import matplotlib as mpl\n",
    "import matplotlib.pyplot as plt"
   ]
  },
  {
   "cell_type": "markdown",
   "metadata": {},
   "source": [
    "**Let's load the MNIST dataset from Keras:**"
   ]
  },
  {
   "cell_type": "code",
   "execution_count": 2,
   "metadata": {},
   "outputs": [],
   "source": [
    "(X_train_full, y_train_full), (X_test, y_test) = keras.datasets.mnist.load_data()"
   ]
  },
  {
   "cell_type": "markdown",
   "metadata": {},
   "source": [
    "**MNIST training set contains 60,000 grayscale images, each 28x28 pixels:**"
   ]
  },
  {
   "cell_type": "code",
   "execution_count": 3,
   "metadata": {},
   "outputs": [
    {
     "data": {
      "text/plain": [
       "(60000, 28, 28)"
      ]
     },
     "execution_count": 3,
     "metadata": {},
     "output_type": "execute_result"
    }
   ],
   "source": [
    "X_train_full.shape"
   ]
  },
  {
   "cell_type": "markdown",
   "metadata": {},
   "source": [
    "**Each pixel intensity is also represented as a byte (0 to 255):**"
   ]
  },
  {
   "cell_type": "code",
   "execution_count": 4,
   "metadata": {},
   "outputs": [
    {
     "data": {
      "text/plain": [
       "dtype('uint8')"
      ]
     },
     "execution_count": 4,
     "metadata": {},
     "output_type": "execute_result"
    }
   ],
   "source": [
    "X_train_full.dtype"
   ]
  },
  {
   "cell_type": "markdown",
   "metadata": {},
   "source": [
    "**Let's split the full training set into a validation set and a (smaller) training set. We also scale the pixel intensities down to the 0-1 range and convert them to floats, by dividing by 255:**"
   ]
  },
  {
   "cell_type": "code",
   "execution_count": 5,
   "metadata": {},
   "outputs": [],
   "source": [
    "X_train_full = X_train_full.astype(np.float32) / 255\n",
    "X_test = X_test.astype(np.float32) / 255"
   ]
  },
  {
   "cell_type": "markdown",
   "metadata": {},
   "source": [
    "**In Deep Learning MLPs, its standard practice to evaluate models by splitting the train set (60000) into both train (55000) and validation (5000).\n",
    "We then can observe the convergence of both loss vs validation loss curves to design deep supervised model that\n",
    "will perform good curve fit on training data.\n",
    "The convergance of loss vs valid loss curves also played a role in designing deep Autoencoder layers\n",
    "and choosing activation functions.**"
   ]
  },
  {
   "cell_type": "code",
   "execution_count": 6,
   "metadata": {},
   "outputs": [],
   "source": [
    "X_train, X_valid = X_train_full[:-5000], X_train_full[-5000:]"
   ]
  },
  {
   "cell_type": "code",
   "execution_count": 7,
   "metadata": {},
   "outputs": [
    {
     "data": {
      "text/plain": [
       "((55000,), (5000,))"
      ]
     },
     "execution_count": 7,
     "metadata": {},
     "output_type": "execute_result"
    }
   ],
   "source": [
    "y_train, y_valid = y_train_full[:-5000], y_train_full[-5000:]\n",
    "y_train.shape, y_valid.shape"
   ]
  },
  {
   "cell_type": "markdown",
   "metadata": {},
   "source": [
    "The validation set contains 5,000 images, and the test set contains 10,000 images:"
   ]
  },
  {
   "cell_type": "code",
   "execution_count": 8,
   "metadata": {},
   "outputs": [
    {
     "data": {
      "text/plain": [
       "(5000, 28, 28)"
      ]
     },
     "execution_count": 8,
     "metadata": {},
     "output_type": "execute_result"
    }
   ],
   "source": [
    "X_valid.shape"
   ]
  },
  {
   "cell_type": "code",
   "execution_count": 9,
   "metadata": {},
   "outputs": [
    {
     "data": {
      "text/plain": [
       "(10000, 28, 28)"
      ]
     },
     "execution_count": 9,
     "metadata": {},
     "output_type": "execute_result"
    }
   ],
   "source": [
    "X_test.shape"
   ]
  },
  {
   "cell_type": "code",
   "execution_count": 10,
   "metadata": {},
   "outputs": [
    {
     "data": {
      "text/plain": [
       "numpy.ndarray"
      ]
     },
     "execution_count": 10,
     "metadata": {},
     "output_type": "execute_result"
    }
   ],
   "source": [
    "type(X_test)"
   ]
  },
  {
   "cell_type": "markdown",
   "metadata": {},
   "source": [
    "**Let's take a look at a sample of X_train images in the dataset:**"
   ]
  },
  {
   "cell_type": "code",
   "execution_count": 11,
   "metadata": {
    "scrolled": true
   },
   "outputs": [
    {
     "data": {
      "image/png": "[encoded data removed]",
      "text/plain": [
       "<Figure size 864x345.6 with 40 Axes>"
      ]
     },
     "metadata": {
      "needs_background": "light"
     },
     "output_type": "display_data"
    }
   ],
   "source": [
    "n_rows = 4\n",
    "n_cols = 10\n",
    "plt.figure(figsize=(n_cols * 1.2, n_rows * 1.2))\n",
    "for row in range(n_rows):\n",
    "    for col in range(n_cols):\n",
    "        index = n_cols * row + col\n",
    "        plt.subplot(n_rows, n_cols, index + 1)\n",
    "        plt.imshow(X_train[index], cmap=\"binary\", interpolation=\"nearest\")\n",
    "        plt.axis('off')\n",
    "plt.subplots_adjust(wspace=0.2, hspace=0.5)\n",
    "plt.show()"
   ]
  },
  {
   "cell_type": "code",
   "execution_count": 13,
   "metadata": {},
   "outputs": [],
   "source": [
    "keras.backend.clear_session()\n",
    "# Separating the encoder and decoder from model\n",
    "# Entered neurons based on cpu memory banks\n",
    "stacked_encoder = keras.models.Sequential([\n",
    "    keras.layers.Flatten(input_shape=[28, 28]),\n",
    "    keras.layers.Dropout(0.10),\n",
    "    keras.layers.Dense(394, activation=\"selu\"),\n",
    "    keras.layers.Dense(192, activation=\"selu\"),\n",
    "    keras.layers.Dense(96, activation=\"selu\"),\n",
    "    keras.layers.Dense(48, activation=\"selu\"),\n",
    "    keras.layers.Dense(29, activation=\"selu\")])\n",
    "\n",
    "stacked_decoder = keras.models.Sequential([\n",
    "    keras.layers.Dense(48, activation=\"selu\", input_shape=[29]),\n",
    "    keras.layers.Dense(96, activation=\"selu\"),\n",
    "    keras.layers.Dense(192, activation=\"selu\"),\n",
    "    keras.layers.Dense(394, activation=\"selu\"),\n",
    "    keras.layers.Dense(28*28, activation=\"softmax\"),\n",
    "    keras.layers.Reshape([28,28])])"
   ]
  },
  {
   "cell_type": "code",
   "execution_count": 14,
   "metadata": {},
   "outputs": [],
   "source": [
    "# combine both encoder and decoder to become autencoder model\n",
    "stacked_ae = keras.models.Sequential([stacked_encoder, stacked_decoder])"
   ]
  },
  {
   "cell_type": "code",
   "execution_count": 15,
   "metadata": {},
   "outputs": [],
   "source": [
    "stacked_ae.compile(loss=\"binary_crossentropy\",\n",
    "              optimizer=keras.optimizers.Adam())"
   ]
  },
  {
   "cell_type": "code",
   "execution_count": 16,
   "metadata": {},
   "outputs": [],
   "source": [
    "stacked_encoder.compile(loss=\"binary_crossentropy\",\n",
    "              optimizer=keras.optimizers.Adam())"
   ]
  },
  {
   "cell_type": "code",
   "execution_count": 17,
   "metadata": {},
   "outputs": [],
   "source": [
    "stacked_decoder.compile(loss=\"binary_crossentropy\",\n",
    "              optimizer=keras.optimizers.Adam())"
   ]
  },
  {
   "cell_type": "code",
   "execution_count": 18,
   "metadata": {},
   "outputs": [
    {
     "name": "stdout",
     "output_type": "stream",
     "text": [
      "Model: \"sequential\"\n",
      "_________________________________________________________________\n",
      "Layer (type)                 Output Shape              Param #   \n",
      "=================================================================\n",
      "flatten (Flatten)            (None, 784)               0         \n",
      "_________________________________________________________________\n",
      "dropout (Dropout)            (None, 784)               0         \n",
      "_________________________________________________________________\n",
      "dense (Dense)                (None, 394)               309290    \n",
      "_________________________________________________________________\n",
      "dense_1 (Dense)              (None, 192)               75840     \n",
      "_________________________________________________________________\n",
      "dense_2 (Dense)              (None, 96)                18528     \n",
      "_________________________________________________________________\n",
      "dense_3 (Dense)              (None, 48)                4656      \n",
      "_________________________________________________________________\n",
      "dense_4 (Dense)              (None, 29)                1421      \n",
      "=================================================================\n",
      "Total params: 409,735\n",
      "Trainable params: 409,735\n",
      "Non-trainable params: 0\n",
      "_________________________________________________________________\n"
     ]
    }
   ],
   "source": [
    "stacked_encoder.summary()"
   ]
  },
  {
   "cell_type": "code",
   "execution_count": 19,
   "metadata": {},
   "outputs": [
    {
     "name": "stdout",
     "output_type": "stream",
     "text": [
      "Model: \"sequential_1\"\n",
      "_________________________________________________________________\n",
      "Layer (type)                 Output Shape              Param #   \n",
      "=================================================================\n",
      "dense_5 (Dense)              (None, 48)                1440      \n",
      "_________________________________________________________________\n",
      "dense_6 (Dense)              (None, 96)                4704      \n",
      "_________________________________________________________________\n",
      "dense_7 (Dense)              (None, 192)               18624     \n",
      "_________________________________________________________________\n",
      "dense_8 (Dense)              (None, 394)               76042     \n",
      "_________________________________________________________________\n",
      "dense_9 (Dense)              (None, 784)               309680    \n",
      "_________________________________________________________________\n",
      "reshape (Reshape)            (None, 28, 28)            0         \n",
      "=================================================================\n",
      "Total params: 410,490\n",
      "Trainable params: 410,490\n",
      "Non-trainable params: 0\n",
      "_________________________________________________________________\n"
     ]
    }
   ],
   "source": [
    "stacked_decoder.summary()"
   ]
  },
  {
   "cell_type": "markdown",
   "metadata": {},
   "source": [
    "#### We are doing Unsupervised Autoencoder. So, we do not want to use y labels. Therefore, y_train, y_valid, or y_test are not needed for this training model. We will use y_train and y_test for the Supervised MLP:"
   ]
  },
  {
   "cell_type": "code",
   "execution_count": 21,
   "metadata": {
    "scrolled": true
   },
   "outputs": [
    {
     "name": "stdout",
     "output_type": "stream",
     "text": [
      "Train on 55000 samples, validate on 5000 samples\n",
      "Epoch 1/20\n",
      "55000/55000 [==============================] - 7s 135us/sample - loss: 0.6859 - val_loss: 0.6693\n",
      "Epoch 2/20\n",
      "55000/55000 [==============================] - 6s 110us/sample - loss: 0.6708 - val_loss: 0.6640\n",
      "Epoch 3/20\n",
      "55000/55000 [==============================] - 6s 109us/sample - loss: 0.6669 - val_loss: 0.6608\n",
      "Epoch 4/20\n",
      "55000/55000 [==============================] - 6s 107us/sample - loss: 0.6647 - val_loss: 0.6609\n",
      "Epoch 5/20\n",
      "55000/55000 [==============================] - 6s 111us/sample - loss: 0.6632 - val_loss: 0.6587\n",
      "Epoch 6/20\n",
      "55000/55000 [==============================] - 6s 109us/sample - loss: 0.6620 - val_loss: 0.6572\n",
      "Epoch 7/20\n",
      "55000/55000 [==============================] - 6s 108us/sample - loss: 0.6611 - val_loss: 0.6563\n",
      "Epoch 8/20\n",
      "55000/55000 [==============================] - 6s 114us/sample - loss: 0.6604 - val_loss: 0.6555\n",
      "Epoch 9/20\n",
      "55000/55000 [==============================] - 6s 108us/sample - loss: 0.6598 - val_loss: 0.6554\n",
      "Epoch 10/20\n",
      "55000/55000 [==============================] - 6s 110us/sample - loss: 0.6593 - val_loss: 0.6550\n",
      "Epoch 11/20\n",
      "55000/55000 [==============================] - 6s 109us/sample - loss: 0.6589 - val_loss: 0.6548\n",
      "Epoch 12/20\n",
      "55000/55000 [==============================] - 6s 108us/sample - loss: 0.6585 - val_loss: 0.6543\n",
      "Epoch 13/20\n",
      "55000/55000 [==============================] - 6s 110us/sample - loss: 0.6582 - val_loss: 0.6540\n",
      "Epoch 14/20\n",
      "55000/55000 [==============================] - 6s 106us/sample - loss: 0.6579 - val_loss: 0.6546\n",
      "Epoch 15/20\n",
      "55000/55000 [==============================] - 6s 106us/sample - loss: 0.6577 - val_loss: 0.6544\n",
      "Epoch 16/20\n",
      "55000/55000 [==============================] - 6s 108us/sample - loss: 0.6574 - val_loss: 0.6530\n",
      "Epoch 17/20\n",
      "55000/55000 [==============================] - 6s 108us/sample - loss: 0.6572 - val_loss: 0.6531\n",
      "Epoch 18/20\n",
      "55000/55000 [==============================] - 6s 110us/sample - loss: 0.6570 - val_loss: 0.6524\n",
      "Epoch 19/20\n",
      "55000/55000 [==============================] - 6s 106us/sample - loss: 0.6568 - val_loss: 0.6527\n",
      "Epoch 20/20\n",
      "55000/55000 [==============================] - 6s 108us/sample - loss: 0.6567 - val_loss: 0.6521\n"
     ]
    }
   ],
   "source": [
    "# NOTE: Python Kernel needs to be restarted when training again for second time and so on!\n",
    "early_stopping_val_loss = keras.callbacks.EarlyStopping(monitor='val_loss',patience=5)\n",
    "checkpoint_cb = keras.callbacks.ModelCheckpoint(\"ae_mnist_model.h5\", save_best_only=True)\n",
    "stacked_ae_hist = stacked_ae.fit(X_train, X_train, epochs=20,validation_data=(X_valid, X_valid),callbacks=[early_stopping_val_loss, checkpoint_cb])\n",
    "\n",
    "#history = model.fit(X_train, X_train, epochs=20,validation_data=(X_valid, X_valid),callbacks=[early_stopping_val_loss, checkpoint_cb])"
   ]
  },
  {
   "cell_type": "code",
   "execution_count": 22,
   "metadata": {},
   "outputs": [
    {
     "data": {
      "image/png": "[encoded data removed]",
      "text/plain": [
       "<Figure size 432x288 with 1 Axes>"
      ]
     },
     "metadata": {
      "needs_background": "light"
     },
     "output_type": "display_data"
    }
   ],
   "source": [
    "#acc = history.history['accuracy']\n",
    "#val_acc = history.history['val_accuracy']\n",
    "loss = stacked_ae_hist.history['loss']\n",
    "val_loss = stacked_ae_hist.history['val_loss']\n",
    "\n",
    "epochs = range(len(loss))\n",
    "\n",
    "#lt.plot(epochs, acc, 'bo', label='Training acc')\n",
    "#lt.plot(epochs, val_acc, 'b', label='Validation acc', color='red')\n",
    "#lt.title('Training and Validation accuracy')\n",
    "#lt.legend()\n",
    "#plt.savefig('final_curve_fit_acc.png')\n",
    "#lt.figure()\n",
    "\n",
    "plt.plot(epochs, loss, 'bo', label='Training loss')\n",
    "plt.plot(epochs, val_loss, 'b', label='Validation loss', color='red')\n",
    "plt.title('Training and Validation loss')\n",
    "plt.legend()\n",
    "\n",
    "#plt.savefig('final_curve_fit_loss.png')\n",
    "plt.show()"
   ]
  },
  {
   "cell_type": "code",
   "execution_count": 23,
   "metadata": {},
   "outputs": [],
   "source": [
    "def plot_image(image, err):\n",
    "    plt.imshow(image, cmap=\"gray\")\n",
    "    plt.xlabel(format(err,'.4f'))\n",
    "    #fig = px.imshow(image)\n",
    "    #fig.show()\n",
    "    #plt.axis(\"off\")\n",
    "    \n",
    "def show_reconstructions(model, images=X_valid, n_images=12):\n",
    "    reconstructions = model.predict(images[:n_images])\n",
    "    #print(type(reconstructions[1])) # turns out to be type of class numpy.ndarray just like X images \n",
    "    mse_ls = []\n",
    "    pred_ls = []\n",
    "    actual_ls = []\n",
    "    fig = plt.figure(figsize=(n_images * 1.5, 3))\n",
    "    for image_index in range(n_images):\n",
    "        #print(reconstructions[image_index])\n",
    "        #print(images[image_index])\n",
    "        pred = reconstructions[image_index]\n",
    "        actual = images[image_index]\n",
    "        d = np.linalg.norm(pred-actual, axis=0)\n",
    "        # compute MSE\n",
    "        mse = np.mean(np.power(d, 2))\n",
    "        #\n",
    "        pred_ls.append(pred)\n",
    "        actual_ls.append(actual)\n",
    "        mse_ls.append(mse)\n",
    "        #\n",
    "    image_dict = {'pred': pred_ls, 'actual': actual_ls, 'mse': mse_ls}\n",
    "    image_df = pd.DataFrame(data=image_dict)\n",
    "    image_df = image_df.sort_values(by='mse', ascending=False)\n",
    "    # fix/reset indexing for new sorted df and drop orignal index column\n",
    "    image_df = image_df.reset_index(drop=True)\n",
    "        #\n",
    "    for i in range(n_images):\n",
    "        plt.subplot(2, n_images, 1 + i)\n",
    "        plot_image(image_df.actual[i], image_df.mse[i])\n",
    "        plt.subplot(2, n_images, 1 + n_images + i)\n",
    "        plot_image(image_df.pred[i], image_df.mse[i])\n",
    "        #print(mse_images)\n",
    "    return image_df.sort_values(by='mse', ascending=False)   \n",
    "   \n"
   ]
  },
  {
   "cell_type": "code",
   "execution_count": 24,
   "metadata": {
    "scrolled": false
   },
   "outputs": [
    {
     "name": "stdout",
     "output_type": "stream",
     "text": [
      "Top row are Original images and bottom row are Decoded images with loss metric from high to low:\n"
     ]
    },
    {
     "data": {
      "image/png": "[encoded data removed]",
      "text/plain": [
       "<Figure size 1296x216 with 24 Axes>"
      ]
     },
     "metadata": {
      "needs_background": "light"
     },
     "output_type": "display_data"
    }
   ],
   "source": [
    "img_df = show_reconstructions(stacked_ae)\n",
    "print(\"Top row are Original images and bottom row are Decoded images with loss metric from high to low:\")\n",
    "\n",
    "#save_fig(\"reconstruction_plot\")\n",
    "\n",
    "# img_df"
   ]
  },
  {
   "cell_type": "code",
   "execution_count": 25,
   "metadata": {
    "scrolled": false
   },
   "outputs": [
    {
     "name": "stdout",
     "output_type": "stream",
     "text": [
      "Top row are Original images and bottom row are Decoded images with loss metric from high to low:\n"
     ]
    },
    {
     "data": {
      "image/png": "[encoded data removed]",
      "text/plain": [
       "<Figure size 1296x216 with 24 Axes>"
      ]
     },
     "metadata": {
      "needs_background": "light"
     },
     "output_type": "display_data"
    }
   ],
   "source": [
    "test_img_df = show_reconstructions(stacked_ae, X_test, 12)\n",
    "print(\"Top row are Original images and bottom row are Decoded images with loss metric from high to low:\")\n",
    "#save_fig(\"reconstruction_plot\")\n",
    "# test_img_df.head(12)"
   ]
  },
  {
   "cell_type": "markdown",
   "metadata": {},
   "source": [
    "**We will extract new features from the Stacked Autoencoder by useing two methods and compare the results to make sure they're identical. One method is simply using the predict function of the Encoder and the other method is using the Keras.function() method**"
   ]
  },
  {
   "cell_type": "code",
   "execution_count": 26,
   "metadata": {
    "scrolled": true
   },
   "outputs": [
    {
     "data": {
      "text/plain": [
       "((10000, 29),\n",
       " array([[ 1.1233873e+00,  1.2614658e+00,  5.5835257e+00, ...,\n",
       "         -1.7580777e+00,  9.9238497e-01, -1.7575058e+00],\n",
       "        [ 4.3898687e+00,  7.1079640e+00,  5.7328792e+00, ...,\n",
       "         -1.7580993e+00,  3.1884816e+00, -1.7580937e+00],\n",
       "        [ 4.6232414e+00,  3.3455150e+00,  6.4969912e+00, ...,\n",
       "         -1.7580992e+00,  3.7658589e+00, -1.7348875e+00],\n",
       "        ...,\n",
       "        [ 5.0320601e-01,  3.0825779e+00,  3.0914776e+00, ...,\n",
       "         -1.7580986e+00,  2.8479450e+00, -1.7580054e+00],\n",
       "        [ 3.6789055e+00,  3.9742538e-04,  3.2077491e+00, ...,\n",
       "         -1.7580993e+00,  6.3169079e+00, -1.7574499e+00],\n",
       "        [ 2.7309062e+00,  4.7552896e+00,  4.9468594e+00, ...,\n",
       "         -1.7580853e+00,  2.6919072e+00, -1.7580775e+00]], dtype=float32))"
      ]
     },
     "execution_count": 26,
     "metadata": {},
     "output_type": "execute_result"
    }
   ],
   "source": [
    "stacked_encoder.predict(X_test).shape, stacked_encoder.predict(X_test)"
   ]
  },
  {
   "cell_type": "code",
   "execution_count": 27,
   "metadata": {},
   "outputs": [
    {
     "name": "stdout",
     "output_type": "stream",
     "text": [
      "(10000, 29) [[ 1.1233857e+00  1.2614648e+00  5.5835276e+00 ... -1.7580777e+00\n",
      "   9.9238515e-01 -1.7575058e+00]\n",
      " [ 4.3898654e+00  7.1079664e+00  5.7328792e+00 ... -1.7580993e+00\n",
      "   3.1884828e+00 -1.7580937e+00]\n",
      " [ 4.6232409e+00  3.3455150e+00  6.4969926e+00 ... -1.7580992e+00\n",
      "   3.7658589e+00 -1.7348875e+00]\n",
      " ...\n",
      " [ 5.0320631e-01  3.0825768e+00  3.0914774e+00 ... -1.7580986e+00\n",
      "   2.8479445e+00 -1.7580054e+00]\n",
      " [ 3.6789067e+00  3.9847338e-04  3.2077506e+00 ... -1.7580993e+00\n",
      "   6.3169079e+00 -1.7574499e+00]\n",
      " [ 2.7309079e+00  4.7552915e+00  4.9468608e+00 ... -1.7580853e+00\n",
      "   2.6919079e+00 -1.7580775e+00]]\n",
      "(5000, 29) [[ 3.9448795   5.5397744   5.851494   ... -1.7580988   2.446057\n",
      "  -1.7572323 ]\n",
      " [ 5.1521144   6.7315764   7.0736904  ... -1.7580987   5.654003\n",
      "  -1.7578832 ]\n",
      " [ 1.788924    3.6951551   6.41971    ... -1.7580987   2.3762934\n",
      "  -1.7575225 ]\n",
      " ...\n",
      " [ 6.5785484   6.5651073   5.474843   ... -1.7580992   3.541464\n",
      "  -1.7579962 ]\n",
      " [ 6.560427    1.727515    4.431863   ... -1.7580993   0.33957317\n",
      "  -1.7580596 ]\n",
      " [ 6.035145    5.731322   -0.6789938  ... -1.7580993   4.996936\n",
      "  -1.7580745 ]]\n",
      "(55000, 29) [[ 2.774883    6.3790298   6.138153   ... -1.7580987  -0.5742916\n",
      "  -1.7580476 ]\n",
      " [ 3.5407825   2.1170604   3.014065   ... -1.7580988  -0.61561143\n",
      "  -1.7580987 ]\n",
      " [ 1.0536412   8.517841   12.016988   ... -1.7580929   9.006606\n",
      "  -1.7579296 ]\n",
      " ...\n",
      " [ 5.4010963   6.8767486   6.510111   ... -1.7580993   5.499132\n",
      "  -1.7580975 ]\n",
      " [ 1.1818527   3.7330208   0.7304075  ... -1.7580987   2.4815574\n",
      "  -1.757884  ]\n",
      " [ 4.6866417   4.3252707   3.1649292  ... -1.7580993   1.4568515\n",
      "  -1.7580992 ]]\n"
     ]
    },
    {
     "name": "stderr",
     "output_type": "stream",
     "text": [
      "Using TensorFlow backend.\n"
     ]
    }
   ],
   "source": [
    "# REFERENCE: https://keras.io/getting-started/faq/#how-can-i-obtain-the-output-of-an-intermediate-layer\n",
    "from keras import backend as K\n",
    "\n",
    "# with a Sequential model\n",
    "get_3rd_layer_output = K.function([stacked_encoder.layers[0].input, K.learning_phase()],\n",
    "                                  [stacked_encoder.layers[6].output])\n",
    "\n",
    "# output in test mode = 0\n",
    "stacked_encoder_layer_output_test = get_3rd_layer_output([X_test, 0])[0]\n",
    "print(stacked_encoder_layer_output_test.shape, stacked_encoder_layer_output_test)\n",
    "\n",
    "# output in valid/test mode = 0\n",
    "stacked_encoder_layer_output_val = get_3rd_layer_output([X_valid, 0])[0]\n",
    "print(stacked_encoder_layer_output_val.shape, stacked_encoder_layer_output_val)\n",
    "\n",
    "# output in train mode = 1\n",
    "stacked_encoder_layer_output_train = get_3rd_layer_output([X_train, 1])[0]\n",
    "print(stacked_encoder_layer_output_train.shape, stacked_encoder_layer_output_train)\n",
    "\n",
    "\n",
    "# output in test mode = 0\n",
    "# USE THIS to combine with original data set\n",
    "#layer_output_test = get_3rd_layer_output([X_test, 0])[0]"
   ]
  },
  {
   "cell_type": "markdown",
   "metadata": {},
   "source": [
    "**We see that the both methods extracted the middle layer of Autoencoder which has 29 new (or 'fake') features and it will be added to the original MNIST data set**"
   ]
  },
  {
   "cell_type": "markdown",
   "metadata": {},
   "source": [
    "**We now reshape data sets from 3d to 2d so we can later add 29 features to them.**"
   ]
  },
  {
   "cell_type": "code",
   "execution_count": 28,
   "metadata": {},
   "outputs": [
    {
     "data": {
      "text/plain": [
       "((10000, 784),\n",
       " array([[0., 0., 0., ..., 0., 0., 0.],\n",
       "        [0., 0., 0., ..., 0., 0., 0.],\n",
       "        [0., 0., 0., ..., 0., 0., 0.],\n",
       "        ...,\n",
       "        [0., 0., 0., ..., 0., 0., 0.],\n",
       "        [0., 0., 0., ..., 0., 0., 0.],\n",
       "        [0., 0., 0., ..., 0., 0., 0.]], dtype=float32))"
      ]
     },
     "execution_count": 28,
     "metadata": {},
     "output_type": "execute_result"
    }
   ],
   "source": [
    "X_test_2d = X_test.reshape((-1, X_test.shape[1]*X_test.shape[2]))\n",
    "X_test_2d.shape, X_test_2d"
   ]
  },
  {
   "cell_type": "code",
   "execution_count": 29,
   "metadata": {},
   "outputs": [
    {
     "data": {
      "text/plain": [
       "((10000, 28, 28), (10000, 784), (10000, 29))"
      ]
     },
     "execution_count": 29,
     "metadata": {},
     "output_type": "execute_result"
    }
   ],
   "source": [
    "X_test.shape, X_test_2d.shape, stacked_encoder_layer_output_test.shape"
   ]
  },
  {
   "cell_type": "code",
   "execution_count": 30,
   "metadata": {
    "scrolled": true
   },
   "outputs": [
    {
     "data": {
      "text/plain": [
       "((55000, 784),\n",
       " array([[0., 0., 0., ..., 0., 0., 0.],\n",
       "        [0., 0., 0., ..., 0., 0., 0.],\n",
       "        [0., 0., 0., ..., 0., 0., 0.],\n",
       "        ...,\n",
       "        [0., 0., 0., ..., 0., 0., 0.],\n",
       "        [0., 0., 0., ..., 0., 0., 0.],\n",
       "        [0., 0., 0., ..., 0., 0., 0.]], dtype=float32))"
      ]
     },
     "execution_count": 30,
     "metadata": {},
     "output_type": "execute_result"
    }
   ],
   "source": [
    "X_train_2d = X_train.reshape((-1, X_train.shape[1]*X_train.shape[2]))\n",
    "X_train_2d.shape, X_train_2d"
   ]
  },
  {
   "cell_type": "code",
   "execution_count": 31,
   "metadata": {
    "scrolled": true
   },
   "outputs": [
    {
     "data": {
      "text/plain": [
       "((5000, 784),\n",
       " array([[0., 0., 0., ..., 0., 0., 0.],\n",
       "        [0., 0., 0., ..., 0., 0., 0.],\n",
       "        [0., 0., 0., ..., 0., 0., 0.],\n",
       "        ...,\n",
       "        [0., 0., 0., ..., 0., 0., 0.],\n",
       "        [0., 0., 0., ..., 0., 0., 0.],\n",
       "        [0., 0., 0., ..., 0., 0., 0.]], dtype=float32))"
      ]
     },
     "execution_count": 31,
     "metadata": {},
     "output_type": "execute_result"
    }
   ],
   "source": [
    "X_valid_2d = X_valid.reshape((-1, X_valid.shape[1]*X_valid.shape[2]))\n",
    "X_valid_2d.shape, X_valid_2d"
   ]
  },
  {
   "cell_type": "markdown",
   "metadata": {},
   "source": [
    "**We start adding 29 features to Train, Valid and Test sets**"
   ]
  },
  {
   "cell_type": "code",
   "execution_count": 32,
   "metadata": {},
   "outputs": [
    {
     "data": {
      "text/plain": [
       "(55000, 813)"
      ]
     },
     "execution_count": 32,
     "metadata": {},
     "output_type": "execute_result"
    }
   ],
   "source": [
    "X_train_2d_new = np.hstack((X_train_2d, stacked_encoder_layer_output_train))\n",
    "X_train_2d_new.shape"
   ]
  },
  {
   "cell_type": "code",
   "execution_count": 33,
   "metadata": {
    "scrolled": true
   },
   "outputs": [
    {
     "data": {
      "text/plain": [
       "(5000, 813)"
      ]
     },
     "execution_count": 33,
     "metadata": {},
     "output_type": "execute_result"
    }
   ],
   "source": [
    "X_valid_2d_new = np.hstack((X_valid_2d, stacked_encoder_layer_output_val))\n",
    "X_valid_2d_new.shape"
   ]
  },
  {
   "cell_type": "code",
   "execution_count": 34,
   "metadata": {},
   "outputs": [
    {
     "data": {
      "text/plain": [
       "(10000, 813)"
      ]
     },
     "execution_count": 34,
     "metadata": {},
     "output_type": "execute_result"
    }
   ],
   "source": [
    "X_test_2d_new = np.hstack((X_test_2d, stacked_encoder_layer_output_test))\n",
    "X_test_2d_new.shape"
   ]
  },
  {
   "cell_type": "markdown",
   "metadata": {},
   "source": [
    "**We created a Multi-layered Supervised model (called super_model) to train and test on the MNIST data set. We will first perform training and testing on the combined 29 plus 784 features. Then compare those results to the training and testing of only the original 784 features:** "
   ]
  },
  {
   "cell_type": "code",
   "execution_count": 35,
   "metadata": {},
   "outputs": [
    {
     "name": "stdout",
     "output_type": "stream",
     "text": [
      "Train on 55000 samples, validate on 5000 samples\n",
      "Epoch 1/20\n",
      "55000/55000 [==============================] - 5s 97us/sample - loss: 0.4354 - accuracy: 0.8643 - val_loss: 0.1264 - val_accuracy: 0.9616\n",
      "Epoch 2/20\n",
      "55000/55000 [==============================] - 5s 89us/sample - loss: 0.2302 - accuracy: 0.9311 - val_loss: 0.1076 - val_accuracy: 0.9696\n",
      "Epoch 3/20\n",
      "55000/55000 [==============================] - 5s 91us/sample - loss: 0.1897 - accuracy: 0.9427 - val_loss: 0.0968 - val_accuracy: 0.9732\n",
      "Epoch 4/20\n",
      "55000/55000 [==============================] - 5s 87us/sample - loss: 0.1698 - accuracy: 0.9495 - val_loss: 0.0959 - val_accuracy: 0.9720\n",
      "Epoch 5/20\n",
      "55000/55000 [==============================] - 5s 89us/sample - loss: 0.1492 - accuracy: 0.9540 - val_loss: 0.0849 - val_accuracy: 0.9774\n",
      "Epoch 6/20\n",
      "55000/55000 [==============================] - 5s 87us/sample - loss: 0.1400 - accuracy: 0.9573 - val_loss: 0.0829 - val_accuracy: 0.9750\n",
      "Epoch 7/20\n",
      "55000/55000 [==============================] - 5s 90us/sample - loss: 0.1266 - accuracy: 0.9616 - val_loss: 0.0778 - val_accuracy: 0.9770\n",
      "Epoch 8/20\n",
      "55000/55000 [==============================] - 5s 90us/sample - loss: 0.1227 - accuracy: 0.9629 - val_loss: 0.0802 - val_accuracy: 0.9770\n",
      "Epoch 9/20\n",
      "55000/55000 [==============================] - 5s 91us/sample - loss: 0.1129 - accuracy: 0.9656 - val_loss: 0.0845 - val_accuracy: 0.9746\n",
      "Epoch 10/20\n",
      "55000/55000 [==============================] - 5s 94us/sample - loss: 0.1075 - accuracy: 0.9672 - val_loss: 0.0801 - val_accuracy: 0.9780\n",
      "Epoch 11/20\n",
      "55000/55000 [==============================] - 5s 91us/sample - loss: 0.1034 - accuracy: 0.9684 - val_loss: 0.0724 - val_accuracy: 0.9782\n",
      "Epoch 12/20\n",
      "55000/55000 [==============================] - 5s 93us/sample - loss: 0.1011 - accuracy: 0.9702 - val_loss: 0.0856 - val_accuracy: 0.9740\n",
      "Epoch 13/20\n",
      "55000/55000 [==============================] - 5s 96us/sample - loss: 0.0960 - accuracy: 0.9710 - val_loss: 0.0738 - val_accuracy: 0.9794\n",
      "Epoch 14/20\n",
      "55000/55000 [==============================] - 5s 88us/sample - loss: 0.0926 - accuracy: 0.9720 - val_loss: 0.0720 - val_accuracy: 0.9790\n",
      "Epoch 15/20\n",
      "55000/55000 [==============================] - 5s 89us/sample - loss: 0.0904 - accuracy: 0.9725 - val_loss: 0.0721 - val_accuracy: 0.9788\n",
      "Epoch 16/20\n",
      "55000/55000 [==============================] - 5s 86us/sample - loss: 0.0873 - accuracy: 0.9742 - val_loss: 0.0732 - val_accuracy: 0.9810\n",
      "Epoch 17/20\n",
      "55000/55000 [==============================] - 5s 83us/sample - loss: 0.0862 - accuracy: 0.9736 - val_loss: 0.0747 - val_accuracy: 0.9780\n",
      "Epoch 18/20\n",
      "55000/55000 [==============================] - 5s 86us/sample - loss: 0.0848 - accuracy: 0.9739 - val_loss: 0.0715 - val_accuracy: 0.9788\n",
      "Epoch 19/20\n",
      "55000/55000 [==============================] - 5s 87us/sample - loss: 0.0827 - accuracy: 0.9748 - val_loss: 0.0753 - val_accuracy: 0.9782\n",
      "Epoch 20/20\n",
      "55000/55000 [==============================] - 5s 91us/sample - loss: 0.0776 - accuracy: 0.9766 - val_loss: 0.0808 - val_accuracy: 0.9780\n"
     ]
    },
    {
     "data": {
      "image/png": "[encoded data removed]",
      "text/plain": [
       "<Figure size 432x288 with 1 Axes>"
      ]
     },
     "metadata": {
      "needs_background": "light"
     },
     "output_type": "display_data"
    },
    {
     "data": {
      "image/png": "[encoded data removed]",
      "text/plain": [
       "<Figure size 432x288 with 1 Axes>"
      ]
     },
     "metadata": {
      "needs_background": "light"
     },
     "output_type": "display_data"
    }
   ],
   "source": [
    "keras.backend.clear_session()\n",
    "# This super model uses the new 29 features added to 784\n",
    "new_super_model = keras.models.Sequential([\n",
    "    keras.layers.Flatten(input_shape=(813,)),\n",
    "    keras.layers.Dense(40, activation=\"selu\"),\n",
    "    keras.layers.Dropout(0.10),\n",
    "    keras.layers.Dense(60, activation=\"selu\"),\n",
    "    keras.layers.Dropout(0.10),\n",
    "    keras.layers.Dense(80, activation=\"selu\"),\n",
    "    keras.layers.Dropout(0.10),\n",
    "    keras.layers.Dense(58, activation=\"selu\"),\n",
    "    keras.layers.Dropout(0.10),\n",
    "    keras.layers.Dense(38, activation=\"selu\"),\n",
    "    keras.layers.Dense(10, activation=\"sigmoid\")])\n",
    "\n",
    "\n",
    "\n",
    "new_super_model.compile(loss=\"sparse_categorical_crossentropy\",\n",
    "              optimizer=keras.optimizers.Adam(),\n",
    "              metrics=[\"accuracy\"])\n",
    "\n",
    "# This will check loss trend and stop if trend does not change\n",
    "early_stopping_cb = keras.callbacks.EarlyStopping(patience=5)\n",
    "# This will rollback and save best model fit checkpoint\n",
    "checkpoint_cb = keras.callbacks.ModelCheckpoint(\"new_mnist_super_model.h5\", save_best_only=True)\n",
    "\n",
    "# We are using both the X_train_2d_new and X_valid_2d_new dataset which has the new 29 features added to 784\n",
    "new_super_history = new_super_model.fit(X_train_2d_new, y_train, epochs=20,\n",
    "                    validation_data=(X_valid_2d_new, y_valid),\n",
    "                    callbacks=[early_stopping_cb, checkpoint_cb])\n",
    "\n",
    "# Removed # validation_data=(X_valid, y_valid), # from super_history\n",
    "# Removed # callbacks=[early_stopping_cb, checkpoint_cb]) # uses val_loss\n",
    "\n",
    "new_acc = new_super_history.history['accuracy']\n",
    "new_val_acc = new_super_history.history['val_accuracy']\n",
    "new_loss = new_super_history.history['loss']\n",
    "new_val_loss = new_super_history.history['val_loss']\n",
    "\n",
    "new_epochs = range(len(new_loss))\n",
    "\n",
    "plt.plot(new_epochs, new_acc, 'bo', label='Training acc')\n",
    "plt.plot(new_epochs, new_val_acc, 'b', label='Validation acc', color='red')\n",
    "plt.title('Training and Validation accuracy')\n",
    "plt.legend()\n",
    "#plt.savefig('final_curve_fit_acc.png')\n",
    "plt.figure()\n",
    "\n",
    "plt.plot(new_epochs, new_loss, 'bo', label='Training loss')\n",
    "plt.plot(new_epochs, new_val_loss, 'b', label='Validation loss', color='red')\n",
    "plt.title('Training and Validation loss')\n",
    "plt.legend()\n",
    "\n",
    "#plt.savefig('final_curve_fit_loss.png')\n",
    "plt.show()"
   ]
  },
  {
   "cell_type": "code",
   "execution_count": 36,
   "metadata": {},
   "outputs": [
    {
     "name": "stdout",
     "output_type": "stream",
     "text": [
      "10000/10000 [==============================] - 1s 60us/sample - loss: 0.0875 - accuracy: 0.9743\n"
     ]
    },
    {
     "data": {
      "text/plain": [
       "[0.0874685721995309, 0.9743]"
      ]
     },
     "execution_count": 36,
     "metadata": {},
     "output_type": "execute_result"
    }
   ],
   "source": [
    "new_super_model = keras.models.load_model(\"new_mnist_super_model.h5\") # rollback to best model\n",
    "new_super_model.evaluate(X_test_2d_new, y_test)"
   ]
  },
  {
   "cell_type": "code",
   "execution_count": 37,
   "metadata": {},
   "outputs": [],
   "source": [
    "new_test_pred = new_super_model.predict(X_test_2d_new)"
   ]
  },
  {
   "cell_type": "code",
   "execution_count": null,
   "metadata": {},
   "outputs": [],
   "source": []
  },
  {
   "cell_type": "code",
   "execution_count": 38,
   "metadata": {},
   "outputs": [
    {
     "name": "stdout",
     "output_type": "stream",
     "text": [
      "Train on 55000 samples, validate on 5000 samples\n",
      "Epoch 1/20\n",
      "55000/55000 [==============================] - 5s 95us/sample - loss: 0.4553 - accuracy: 0.8610 - val_loss: 0.1602 - val_accuracy: 0.9518\n",
      "Epoch 2/20\n",
      "55000/55000 [==============================] - 5s 93us/sample - loss: 0.2643 - accuracy: 0.9212 - val_loss: 0.1342 - val_accuracy: 0.9622\n",
      "Epoch 3/20\n",
      "55000/55000 [==============================] - 5s 86us/sample - loss: 0.2249 - accuracy: 0.9325 - val_loss: 0.1234 - val_accuracy: 0.9650\n",
      "Epoch 4/20\n",
      "55000/55000 [==============================] - 5s 87us/sample - loss: 0.1963 - accuracy: 0.9405 - val_loss: 0.1125 - val_accuracy: 0.9652\n",
      "Epoch 5/20\n",
      "55000/55000 [==============================] - 5s 88us/sample - loss: 0.1733 - accuracy: 0.9477 - val_loss: 0.0986 - val_accuracy: 0.9704\n",
      "Epoch 6/20\n",
      "55000/55000 [==============================] - 5s 87us/sample - loss: 0.1635 - accuracy: 0.9498 - val_loss: 0.0884 - val_accuracy: 0.9746\n",
      "Epoch 7/20\n",
      "55000/55000 [==============================] - 5s 87us/sample - loss: 0.1498 - accuracy: 0.9537 - val_loss: 0.0910 - val_accuracy: 0.9736\n",
      "Epoch 8/20\n",
      "55000/55000 [==============================] - 5s 87us/sample - loss: 0.1415 - accuracy: 0.9568 - val_loss: 0.0929 - val_accuracy: 0.9730\n",
      "Epoch 9/20\n",
      "55000/55000 [==============================] - 5s 89us/sample - loss: 0.1325 - accuracy: 0.9603 - val_loss: 0.0867 - val_accuracy: 0.9748\n",
      "Epoch 10/20\n",
      "55000/55000 [==============================] - 5s 83us/sample - loss: 0.1265 - accuracy: 0.9619 - val_loss: 0.0952 - val_accuracy: 0.9732\n",
      "Epoch 11/20\n",
      "55000/55000 [==============================] - 5s 87us/sample - loss: 0.1217 - accuracy: 0.9625 - val_loss: 0.0898 - val_accuracy: 0.9762\n",
      "Epoch 12/20\n",
      "55000/55000 [==============================] - 5s 86us/sample - loss: 0.1182 - accuracy: 0.9637 - val_loss: 0.1065 - val_accuracy: 0.9694\n",
      "Epoch 13/20\n",
      "55000/55000 [==============================] - 5s 85us/sample - loss: 0.1119 - accuracy: 0.9655 - val_loss: 0.0961 - val_accuracy: 0.9728\n",
      "Epoch 14/20\n",
      "55000/55000 [==============================] - 5s 85us/sample - loss: 0.1059 - accuracy: 0.9678 - val_loss: 0.0805 - val_accuracy: 0.9762\n",
      "Epoch 15/20\n",
      "55000/55000 [==============================] - 5s 86us/sample - loss: 0.1016 - accuracy: 0.9678 - val_loss: 0.0920 - val_accuracy: 0.9746\n",
      "Epoch 16/20\n",
      "55000/55000 [==============================] - 5s 89us/sample - loss: 0.1013 - accuracy: 0.9690 - val_loss: 0.0879 - val_accuracy: 0.9764\n",
      "Epoch 17/20\n",
      "55000/55000 [==============================] - 5s 85us/sample - loss: 0.0997 - accuracy: 0.9695 - val_loss: 0.0839 - val_accuracy: 0.9762\n",
      "Epoch 18/20\n",
      "55000/55000 [==============================] - 5s 86us/sample - loss: 0.0972 - accuracy: 0.9692 - val_loss: 0.0827 - val_accuracy: 0.9774\n",
      "Epoch 19/20\n",
      "55000/55000 [==============================] - 5s 85us/sample - loss: 0.0928 - accuracy: 0.9707 - val_loss: 0.0830 - val_accuracy: 0.9778\n"
     ]
    },
    {
     "data": {
      "image/png": "[encoded data removed]",
      "text/plain": [
       "<Figure size 432x288 with 1 Axes>"
      ]
     },
     "metadata": {
      "needs_background": "light"
     },
     "output_type": "display_data"
    },
    {
     "data": {
      "image/png": "[encoded data removed]",
      "text/plain": [
       "<Figure size 432x288 with 1 Axes>"
      ]
     },
     "metadata": {
      "needs_background": "light"
     },
     "output_type": "display_data"
    }
   ],
   "source": [
    "keras.backend.clear_session()\n",
    "# This super model uses only the original 784 features\n",
    "super_model = keras.models.Sequential([\n",
    "    keras.layers.Flatten(input_shape=[28, 28]),\n",
    "    keras.layers.Dense(40, activation=\"selu\"),\n",
    "    keras.layers.Dropout(0.10),\n",
    "    keras.layers.Dense(60, activation=\"selu\"),\n",
    "    keras.layers.Dropout(0.10),\n",
    "    keras.layers.Dense(80, activation=\"selu\"),\n",
    "    keras.layers.Dropout(0.10),\n",
    "    keras.layers.Dense(58, activation=\"selu\"),\n",
    "    keras.layers.Dropout(0.10),\n",
    "    keras.layers.Dense(38, activation=\"selu\"),\n",
    "    keras.layers.Dense(10, activation=\"sigmoid\")])\n",
    "\n",
    "super_model.compile(loss=\"sparse_categorical_crossentropy\",\n",
    "              optimizer=keras.optimizers.Adam(),\n",
    "              metrics=[\"accuracy\"])\n",
    "\n",
    "# This will check loss trend and stop if trend does not change\n",
    "early_stopping_cb = keras.callbacks.EarlyStopping(patience=5)\n",
    "# This will rollback and save best model fit checkpoint\n",
    "checkpoint_cb = keras.callbacks.ModelCheckpoint(\"mnist_super_model.h5\", save_best_only=True)\n",
    "\n",
    "\n",
    "super_history = super_model.fit(X_train, y_train, epochs=20,\n",
    "                    validation_data=(X_valid, y_valid),\n",
    "                    callbacks=[early_stopping_cb, checkpoint_cb])\n",
    "\n",
    "# Removed # validation_data=(X_valid, y_valid), # from super_history\n",
    "# Removed # callbacks=[early_stopping_cb, checkpoint_cb]) # uses val_loss\n",
    "\n",
    "acc = super_history.history['accuracy']\n",
    "val_acc = super_history.history['val_accuracy']\n",
    "loss = super_history.history['loss']\n",
    "val_loss = super_history.history['val_loss']\n",
    "\n",
    "epochs = range(len(loss))\n",
    "\n",
    "plt.plot(epochs, acc, 'bo', label='Training acc')\n",
    "plt.plot(epochs, val_acc, 'b', label='Validation acc', color='red')\n",
    "plt.title('Training and Validation accuracy')\n",
    "plt.legend()\n",
    "#plt.savefig('final_curve_fit_acc.png')\n",
    "plt.figure()\n",
    "\n",
    "plt.plot(epochs, loss, 'bo', label='Training loss')\n",
    "plt.plot(epochs, val_loss, 'b', label='Validation loss', color='red')\n",
    "plt.title('Training and Validation loss')\n",
    "plt.legend()\n",
    "\n",
    "#plt.savefig('final_curve_fit_loss.png')\n",
    "plt.show()"
   ]
  },
  {
   "cell_type": "code",
   "execution_count": 39,
   "metadata": {
    "scrolled": true
   },
   "outputs": [
    {
     "name": "stdout",
     "output_type": "stream",
     "text": [
      "10000/10000 [==============================] - 1s 57us/sample - loss: 0.0949 - accuracy: 0.9733\n"
     ]
    },
    {
     "data": {
      "text/plain": [
       "[0.09485078687211498, 0.9733]"
      ]
     },
     "execution_count": 39,
     "metadata": {},
     "output_type": "execute_result"
    }
   ],
   "source": [
    "super_model = keras.models.load_model(\"mnist_super_model.h5\") # rollback to best model\n",
    "super_model.evaluate(X_test, y_test)"
   ]
  },
  {
   "cell_type": "markdown",
   "metadata": {},
   "source": [
    "**We are just observing how the small sample of test data performs on super_model predictions:**"
   ]
  },
  {
   "cell_type": "code",
   "execution_count": 40,
   "metadata": {},
   "outputs": [],
   "source": [
    "# Using the super_model (original 784 features) to observe small sample of predictions\n",
    "pred = super_model.predict(X_test)"
   ]
  },
  {
   "cell_type": "code",
   "execution_count": 41,
   "metadata": {},
   "outputs": [],
   "source": [
    "missed_idx = []\n",
    "correct_idx = []\n",
    "pred_rnk_1 = []\n",
    "pred_rnk_2 = []\n",
    "missed = 0\n",
    "correct = 0\n",
    "for idx in range(0, 10000):\n",
    "    pred_idxsort = pred[idx].argsort()\n",
    "    pred_rnk_1.append(pred_idxsort[-1])\n",
    "    pred_rnk_2.append(pred_idxsort[-2])\n",
    "    if (y_test[idx] != pred_idxsort[-1]):\n",
    "        missed_idx.append(idx)\n",
    "        #print(idx,'',y_test[idx],'',pred_rnk_1,'',pred_rnk_2)\n",
    "        missed+=1\n",
    "    else:\n",
    "        correct_idx.append(idx)\n",
    "        #print(idx,'',y_test[idx],'',pred_rnk_1,'',pred_rnk_2)\n",
    "        correct+=1"
   ]
  },
  {
   "cell_type": "code",
   "execution_count": 42,
   "metadata": {},
   "outputs": [],
   "source": [
    "incorrect_indices = missed_idx\n",
    "correct_indices = correct_idx\n",
    "testX = X_test\n",
    "testy = y_test\n",
    "predicted_classes = pred_rnk_1"
   ]
  },
  {
   "cell_type": "code",
   "execution_count": 43,
   "metadata": {},
   "outputs": [
    {
     "data": {
      "image/png": "[encoded data removed]",
      "text/plain": [
       "<Figure size 504x1008 with 18 Axes>"
      ]
     },
     "metadata": {},
     "output_type": "display_data"
    }
   ],
   "source": [
    "# adapt figure size to accomodate 18 subplots\n",
    "plt.rcParams['figure.figsize'] = (7,14)\n",
    "\n",
    "figure_evaluation = plt.figure()\n",
    "\n",
    "# plot 9 correct predictions\n",
    "for i, correct in enumerate(correct_indices[:9]):\n",
    "    plt.subplot(6,3,i+1)\n",
    "    plt.imshow(testX[correct].reshape(28,28), cmap='gray', interpolation='none')\n",
    "    plt.title(\n",
    "      \"Predicted: {}, Truth: {}\".format(predicted_classes[correct],\n",
    "                                        testy[correct]))\n",
    "    plt.xticks([])\n",
    "    plt.yticks([])\n",
    "\n",
    "# plot 9 incorrect predictions\n",
    "for i, incorrect in enumerate(incorrect_indices[:9]):\n",
    "    plt.subplot(6,3,i+10)\n",
    "    plt.imshow(testX[incorrect].reshape(28,28), cmap='gray', interpolation='none')\n",
    "    plt.title(\n",
    "      \"Predicted {}, Truth: {}\".format(predicted_classes[incorrect], \n",
    "                                       testy[incorrect]))\n",
    "    plt.xticks([])\n",
    "    plt.yticks([])"
   ]
  },
  {
   "cell_type": "code",
   "execution_count": 44,
   "metadata": {},
   "outputs": [],
   "source": [
    "# Using the new_super_model (29 plus 784 features) to observe small sample of predictions\n",
    "new_pred = new_super_model.predict(X_test_2d_new)\n",
    "pred = new_pred"
   ]
  },
  {
   "cell_type": "code",
   "execution_count": 45,
   "metadata": {},
   "outputs": [
    {
     "data": {
      "image/png": "[encoded data removed]",
      "text/plain": [
       "<Figure size 504x1008 with 18 Axes>"
      ]
     },
     "metadata": {},
     "output_type": "display_data"
    }
   ],
   "source": [
    "missed_idx = []\n",
    "correct_idx = []\n",
    "pred_rnk_1 = []\n",
    "pred_rnk_2 = []\n",
    "missed = 0\n",
    "correct = 0\n",
    "for idx in range(0, 10000):\n",
    "    pred_idxsort = pred[idx].argsort()\n",
    "    pred_rnk_1.append(pred_idxsort[-1])\n",
    "    pred_rnk_2.append(pred_idxsort[-2])\n",
    "    if (y_test[idx] != pred_idxsort[-1]):\n",
    "        missed_idx.append(idx)\n",
    "        #print(idx,'',y_test[idx],'',pred_rnk_1,'',pred_rnk_2)\n",
    "        missed+=1\n",
    "    else:\n",
    "        correct_idx.append(idx)\n",
    "        #print(idx,'',y_test[idx],'',pred_rnk_1,'',pred_rnk_2)\n",
    "        correct+=1\n",
    "        \n",
    "incorrect_indices = missed_idx\n",
    "correct_indices = correct_idx\n",
    "testX = X_test\n",
    "testy = y_test\n",
    "predicted_classes = pred_rnk_1\n",
    "\n",
    "# adapt figure size to accomodate 18 subplots\n",
    "plt.rcParams['figure.figsize'] = (7,14)\n",
    "\n",
    "figure_evaluation = plt.figure()\n",
    "\n",
    "# plot 9 correct predictions\n",
    "for i, correct in enumerate(correct_indices[:9]):\n",
    "    plt.subplot(6,3,i+1)\n",
    "    plt.imshow(testX[correct].reshape(28,28), cmap='gray', interpolation='none')\n",
    "    plt.title(\n",
    "      \"Predicted: {}, Truth: {}\".format(predicted_classes[correct],\n",
    "                                        testy[correct]))\n",
    "    plt.xticks([])\n",
    "    plt.yticks([])\n",
    "\n",
    "# plot 9 incorrect predictions\n",
    "for i, incorrect in enumerate(incorrect_indices[:9]):\n",
    "    plt.subplot(6,3,i+10)\n",
    "    plt.imshow(testX[incorrect].reshape(28,28), cmap='gray', interpolation='none')\n",
    "    plt.title(\n",
    "      \"Predicted {}, Truth: {}\".format(predicted_classes[incorrect], \n",
    "                                       testy[incorrect]))\n",
    "    plt.xticks([])\n",
    "    plt.yticks([])"
   ]
  },
  {
   "cell_type": "code",
   "execution_count": 46,
   "metadata": {},
   "outputs": [
    {
     "data": {
      "text/plain": [
       "5.45940435330073"
      ]
     },
     "execution_count": 46,
     "metadata": {},
     "output_type": "execute_result"
    }
   ],
   "source": [
    "# Get total runtime in minutes\n",
    "(time.time() - start_time)/60"
   ]
  }
 ],
 "metadata": {
  "kernelspec": {
   "display_name": "Python 3",
   "language": "python",
   "name": "python3"
  },
  "language_info": {
   "codemirror_mode": {
    "name": "ipython",
    "version": 3
   },
   "file_extension": ".py",
   "mimetype": "text/x-python",
   "name": "python",
   "nbconvert_exporter": "python",
   "pygments_lexer": "ipython3",
   "version": "3.6.10"
  }
 },
 "nbformat": 4,
 "nbformat_minor": 4
}
