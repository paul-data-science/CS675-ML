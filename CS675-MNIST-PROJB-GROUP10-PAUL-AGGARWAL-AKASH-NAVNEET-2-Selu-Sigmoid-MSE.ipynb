{
 "cells": [
  {
   "cell_type": "code",
   "execution_count": 1,
   "metadata": {},
   "outputs": [],
   "source": [
    "import time\n",
    "# Start run time\n",
    "start_time = time.time()\n",
    "\n",
    "# Python ≥3.5 is required\n",
    "import sys\n",
    "assert sys.version_info >= (3, 5)\n",
    "\n",
    "# Scikit-Learn ≥0.20 is required\n",
    "import sklearn\n",
    "assert sklearn.__version__ >= \"0.20\"\n",
    "\n",
    "try:\n",
    "    # %tensorflow_version only exists in Colab.\n",
    "    %tensorflow_version 2.x\n",
    "except Exception:\n",
    "    pass\n",
    "\n",
    "# TensorFlow ≥2.0 is required\n",
    "import tensorflow as tf\n",
    "from tensorflow import keras\n",
    "assert tf.__version__ >= \"2.0\"\n",
    "\n",
    "# Common imports\n",
    "import pandas as pd\n",
    "import numpy as np\n",
    "import os\n",
    "\n",
    "# to make this notebook's output stable across runs\n",
    "np.random.seed(42)\n",
    "tf.random.set_seed(42)\n",
    "\n",
    "# To plot pretty figures\n",
    "import matplotlib as mpl\n",
    "import matplotlib.pyplot as plt"
   ]
  },
  {
   "cell_type": "markdown",
   "metadata": {},
   "source": [
    "**Let's load the MNIST dataset from Keras:**"
   ]
  },
  {
   "cell_type": "code",
   "execution_count": 2,
   "metadata": {},
   "outputs": [],
   "source": [
    "(X_train_full, y_train_full), (X_test, y_test) = keras.datasets.mnist.load_data()"
   ]
  },
  {
   "cell_type": "markdown",
   "metadata": {},
   "source": [
    "**MNIST training set contains 60,000 grayscale images, each 28x28 pixels:**"
   ]
  },
  {
   "cell_type": "code",
   "execution_count": 3,
   "metadata": {},
   "outputs": [
    {
     "data": {
      "text/plain": [
       "(60000, 28, 28)"
      ]
     },
     "execution_count": 3,
     "metadata": {},
     "output_type": "execute_result"
    }
   ],
   "source": [
    "X_train_full.shape"
   ]
  },
  {
   "cell_type": "markdown",
   "metadata": {},
   "source": [
    "**Each pixel intensity is also represented as a byte (0 to 255):**"
   ]
  },
  {
   "cell_type": "code",
   "execution_count": 4,
   "metadata": {},
   "outputs": [
    {
     "data": {
      "text/plain": [
       "dtype('uint8')"
      ]
     },
     "execution_count": 4,
     "metadata": {},
     "output_type": "execute_result"
    }
   ],
   "source": [
    "X_train_full.dtype"
   ]
  },
  {
   "cell_type": "markdown",
   "metadata": {},
   "source": [
    "**Let's split the full training set into a validation set and a (smaller) training set. We also scale the pixel intensities down to the 0-1 range and convert them to floats, by dividing by 255:**"
   ]
  },
  {
   "cell_type": "code",
   "execution_count": 5,
   "metadata": {},
   "outputs": [],
   "source": [
    "X_train_full = X_train_full.astype(np.float32) / 255\n",
    "X_test = X_test.astype(np.float32) / 255"
   ]
  },
  {
   "cell_type": "markdown",
   "metadata": {},
   "source": [
    "**In Deep Learning MLPs, its standard practice to evaluate models by splitting the train set (60000) into both train (55000) and validation (5000).\n",
    "We then can observe the convergence of both loss vs validation loss curves to design deep supervised model that\n",
    "will perform good curve fit on training data.\n",
    "The convergance of loss vs valid loss curves also played a role in designing deep Autoencoder layers\n",
    "and choosing activation functions.**"
   ]
  },
  {
   "cell_type": "code",
   "execution_count": 6,
   "metadata": {},
   "outputs": [],
   "source": [
    "X_train, X_valid = X_train_full[:-5000], X_train_full[-5000:]"
   ]
  },
  {
   "cell_type": "code",
   "execution_count": 7,
   "metadata": {},
   "outputs": [
    {
     "data": {
      "text/plain": [
       "((55000,), (5000,))"
      ]
     },
     "execution_count": 7,
     "metadata": {},
     "output_type": "execute_result"
    }
   ],
   "source": [
    "y_train, y_valid = y_train_full[:-5000], y_train_full[-5000:]\n",
    "y_train.shape, y_valid.shape"
   ]
  },
  {
   "cell_type": "markdown",
   "metadata": {},
   "source": [
    "The validation set contains 5,000 images, and the test set contains 10,000 images:"
   ]
  },
  {
   "cell_type": "code",
   "execution_count": 8,
   "metadata": {},
   "outputs": [
    {
     "data": {
      "text/plain": [
       "(5000, 28, 28)"
      ]
     },
     "execution_count": 8,
     "metadata": {},
     "output_type": "execute_result"
    }
   ],
   "source": [
    "X_valid.shape"
   ]
  },
  {
   "cell_type": "code",
   "execution_count": 9,
   "metadata": {},
   "outputs": [
    {
     "data": {
      "text/plain": [
       "(10000, 28, 28)"
      ]
     },
     "execution_count": 9,
     "metadata": {},
     "output_type": "execute_result"
    }
   ],
   "source": [
    "X_test.shape"
   ]
  },
  {
   "cell_type": "code",
   "execution_count": 10,
   "metadata": {},
   "outputs": [
    {
     "data": {
      "text/plain": [
       "numpy.ndarray"
      ]
     },
     "execution_count": 10,
     "metadata": {},
     "output_type": "execute_result"
    }
   ],
   "source": [
    "type(X_test)"
   ]
  },
  {
   "cell_type": "markdown",
   "metadata": {},
   "source": [
    "**Let's take a look at a sample of X_train images in the dataset:**"
   ]
  },
  {
   "cell_type": "code",
   "execution_count": 11,
   "metadata": {
    "scrolled": true
   },
   "outputs": [
    {
     "data": {
      "image/png": "[encoded data removed]",
      "text/plain": [
       "<Figure size 864x345.6 with 40 Axes>"
      ]
     },
     "metadata": {
      "needs_background": "light"
     },
     "output_type": "display_data"
    }
   ],
   "source": [
    "n_rows = 4\n",
    "n_cols = 10\n",
    "plt.figure(figsize=(n_cols * 1.2, n_rows * 1.2))\n",
    "for row in range(n_rows):\n",
    "    for col in range(n_cols):\n",
    "        index = n_cols * row + col\n",
    "        plt.subplot(n_rows, n_cols, index + 1)\n",
    "        plt.imshow(X_train[index], cmap=\"binary\", interpolation=\"nearest\")\n",
    "        plt.axis('off')\n",
    "plt.subplots_adjust(wspace=0.2, hspace=0.5)\n",
    "plt.show()"
   ]
  },
  {
   "cell_type": "code",
   "execution_count": 13,
   "metadata": {},
   "outputs": [],
   "source": [
    "keras.backend.clear_session()\n",
    "# Separating the encoder and decoder from model\n",
    "stacked_encoder = keras.models.Sequential([\n",
    "    keras.layers.Flatten(input_shape=[28, 28]),\n",
    "    keras.layers.Dropout(0.10),\n",
    "    keras.layers.Dense(394, activation=\"selu\"),\n",
    "    keras.layers.Dense(192, activation=\"selu\"),\n",
    "    keras.layers.Dense(96, activation=\"selu\"),\n",
    "    keras.layers.Dense(48, activation=\"selu\"),\n",
    "    keras.layers.Dense(29, activation=\"selu\")])\n",
    "\n",
    "stacked_decoder = keras.models.Sequential([\n",
    "    keras.layers.Dense(48, activation=\"selu\", input_shape=[29]),\n",
    "    keras.layers.Dense(96, activation=\"selu\"),\n",
    "    keras.layers.Dense(192, activation=\"selu\"),\n",
    "    keras.layers.Dense(394, activation=\"selu\"),\n",
    "    keras.layers.Dense(28*28, activation=\"sigmoid\"),\n",
    "    keras.layers.Reshape([28,28])])"
   ]
  },
  {
   "cell_type": "code",
   "execution_count": 14,
   "metadata": {},
   "outputs": [],
   "source": [
    "# combine both encoder and decoder to become autencoder model\n",
    "stacked_ae = keras.models.Sequential([stacked_encoder, stacked_decoder])"
   ]
  },
  {
   "cell_type": "code",
   "execution_count": 15,
   "metadata": {},
   "outputs": [],
   "source": [
    "stacked_ae.compile(loss=\"MSE\",\n",
    "              optimizer=keras.optimizers.Adam())"
   ]
  },
  {
   "cell_type": "code",
   "execution_count": 16,
   "metadata": {},
   "outputs": [],
   "source": [
    "stacked_encoder.compile(loss=\"MSE\",\n",
    "              optimizer=keras.optimizers.Adam())"
   ]
  },
  {
   "cell_type": "code",
   "execution_count": 17,
   "metadata": {},
   "outputs": [],
   "source": [
    "stacked_decoder.compile(loss=\"MSE\",\n",
    "              optimizer=keras.optimizers.Adam())"
   ]
  },
  {
   "cell_type": "code",
   "execution_count": 18,
   "metadata": {},
   "outputs": [
    {
     "name": "stdout",
     "output_type": "stream",
     "text": [
      "Model: \"sequential\"\n",
      "_________________________________________________________________\n",
      "Layer (type)                 Output Shape              Param #   \n",
      "=================================================================\n",
      "flatten (Flatten)            (None, 784)               0         \n",
      "_________________________________________________________________\n",
      "dropout (Dropout)            (None, 784)               0         \n",
      "_________________________________________________________________\n",
      "dense (Dense)                (None, 394)               309290    \n",
      "_________________________________________________________________\n",
      "dense_1 (Dense)              (None, 192)               75840     \n",
      "_________________________________________________________________\n",
      "dense_2 (Dense)              (None, 96)                18528     \n",
      "_________________________________________________________________\n",
      "dense_3 (Dense)              (None, 48)                4656      \n",
      "_________________________________________________________________\n",
      "dense_4 (Dense)              (None, 29)                1421      \n",
      "=================================================================\n",
      "Total params: 409,735\n",
      "Trainable params: 409,735\n",
      "Non-trainable params: 0\n",
      "_________________________________________________________________\n"
     ]
    }
   ],
   "source": [
    "stacked_encoder.summary()"
   ]
  },
  {
   "cell_type": "code",
   "execution_count": 19,
   "metadata": {},
   "outputs": [
    {
     "name": "stdout",
     "output_type": "stream",
     "text": [
      "Model: \"sequential_1\"\n",
      "_________________________________________________________________\n",
      "Layer (type)                 Output Shape              Param #   \n",
      "=================================================================\n",
      "dense_5 (Dense)              (None, 48)                1440      \n",
      "_________________________________________________________________\n",
      "dense_6 (Dense)              (None, 96)                4704      \n",
      "_________________________________________________________________\n",
      "dense_7 (Dense)              (None, 192)               18624     \n",
      "_________________________________________________________________\n",
      "dense_8 (Dense)              (None, 394)               76042     \n",
      "_________________________________________________________________\n",
      "dense_9 (Dense)              (None, 784)               309680    \n",
      "_________________________________________________________________\n",
      "reshape (Reshape)            (None, 28, 28)            0         \n",
      "=================================================================\n",
      "Total params: 410,490\n",
      "Trainable params: 410,490\n",
      "Non-trainable params: 0\n",
      "_________________________________________________________________\n"
     ]
    }
   ],
   "source": [
    "stacked_decoder.summary()"
   ]
  },
  {
   "cell_type": "markdown",
   "metadata": {},
   "source": [
    "#### We are doing Unsupervised Autoencoder. So, we do not want to use y labels. Therefore, y_train, y_valid, or y_test are not needed for this training model. We will use y_train and y_test for the Supervised MLP:"
   ]
  },
  {
   "cell_type": "code",
   "execution_count": 21,
   "metadata": {
    "scrolled": true
   },
   "outputs": [
    {
     "name": "stdout",
     "output_type": "stream",
     "text": [
      "Train on 55000 samples, validate on 5000 samples\n",
      "Epoch 1/20\n",
      "55000/55000 [==============================] - 6s 117us/sample - loss: 0.0252 - val_loss: 0.0166\n",
      "Epoch 2/20\n",
      "55000/55000 [==============================] - 6s 104us/sample - loss: 0.0156 - val_loss: 0.0136\n",
      "Epoch 3/20\n",
      "55000/55000 [==============================] - 6s 103us/sample - loss: 0.0138 - val_loss: 0.0124\n",
      "Epoch 4/20\n",
      "55000/55000 [==============================] - 6s 103us/sample - loss: 0.0129 - val_loss: 0.0121\n",
      "Epoch 5/20\n",
      "55000/55000 [==============================] - 6s 109us/sample - loss: 0.0122 - val_loss: 0.0119\n",
      "Epoch 6/20\n",
      "55000/55000 [==============================] - 6s 101us/sample - loss: 0.0118 - val_loss: 0.0114\n",
      "Epoch 7/20\n",
      "55000/55000 [==============================] - 6s 100us/sample - loss: 0.0114 - val_loss: 0.0106\n",
      "Epoch 8/20\n",
      "55000/55000 [==============================] - 6s 101us/sample - loss: 0.0111 - val_loss: 0.0109\n",
      "Epoch 9/20\n",
      "55000/55000 [==============================] - 5s 98us/sample - loss: 0.0109 - val_loss: 0.0108\n",
      "Epoch 10/20\n",
      "55000/55000 [==============================] - 5s 99us/sample - loss: 0.0107 - val_loss: 0.0100\n",
      "Epoch 11/20\n",
      "55000/55000 [==============================] - 6s 100us/sample - loss: 0.0105 - val_loss: 0.0100\n",
      "Epoch 12/20\n",
      "55000/55000 [==============================] - 6s 106us/sample - loss: 0.0104 - val_loss: 0.0103\n",
      "Epoch 13/20\n",
      "55000/55000 [==============================] - 6s 103us/sample - loss: 0.0103 - val_loss: 0.0101\n",
      "Epoch 14/20\n",
      "55000/55000 [==============================] - 6s 103us/sample - loss: 0.0101 - val_loss: 0.0098\n",
      "Epoch 15/20\n",
      "55000/55000 [==============================] - 5s 100us/sample - loss: 0.0100 - val_loss: 0.0099\n",
      "Epoch 16/20\n",
      "55000/55000 [==============================] - 5s 99us/sample - loss: 0.0099 - val_loss: 0.0097\n",
      "Epoch 17/20\n",
      "55000/55000 [==============================] - 6s 102us/sample - loss: 0.0098 - val_loss: 0.0095\n",
      "Epoch 18/20\n",
      "55000/55000 [==============================] - 6s 100us/sample - loss: 0.0097 - val_loss: 0.0097\n",
      "Epoch 19/20\n",
      "55000/55000 [==============================] - 5s 99us/sample - loss: 0.0097 - val_loss: 0.0098\n",
      "Epoch 20/20\n",
      "55000/55000 [==============================] - 6s 102us/sample - loss: 0.0096 - val_loss: 0.0094\n"
     ]
    }
   ],
   "source": [
    "# NOTE: Python Kernel needs to be restarted when training again for second time and so on!\n",
    "early_stopping_val_loss = keras.callbacks.EarlyStopping(monitor='val_loss',patience=5)\n",
    "checkpoint_cb = keras.callbacks.ModelCheckpoint(\"ae_mnist_model.h5\", save_best_only=True)\n",
    "stacked_ae_hist = stacked_ae.fit(X_train, X_train, epochs=20,validation_data=(X_valid, X_valid),callbacks=[early_stopping_val_loss, checkpoint_cb])\n",
    "\n",
    "#history = model.fit(X_train, X_train, epochs=20,validation_data=(X_valid, X_valid),callbacks=[early_stopping_val_loss, checkpoint_cb])"
   ]
  },
  {
   "cell_type": "code",
   "execution_count": 22,
   "metadata": {},
   "outputs": [
    {
     "data": {
      "image/png": "[encoded data removed]",
      "text/plain": [
       "<Figure size 432x288 with 1 Axes>"
      ]
     },
     "metadata": {
      "needs_background": "light"
     },
     "output_type": "display_data"
    }
   ],
   "source": [
    "#acc = history.history['accuracy']\n",
    "#val_acc = history.history['val_accuracy']\n",
    "loss = stacked_ae_hist.history['loss']\n",
    "val_loss = stacked_ae_hist.history['val_loss']\n",
    "\n",
    "epochs = range(len(loss))\n",
    "\n",
    "#lt.plot(epochs, acc, 'bo', label='Training acc')\n",
    "#lt.plot(epochs, val_acc, 'b', label='Validation acc', color='red')\n",
    "#lt.title('Training and Validation accuracy')\n",
    "#lt.legend()\n",
    "#plt.savefig('final_curve_fit_acc.png')\n",
    "#lt.figure()\n",
    "\n",
    "plt.plot(epochs, loss, 'bo', label='Training loss')\n",
    "plt.plot(epochs, val_loss, 'b', label='Validation loss', color='red')\n",
    "plt.title('Training and Validation loss')\n",
    "plt.legend()\n",
    "\n",
    "#plt.savefig('final_curve_fit_loss.png')\n",
    "plt.show()"
   ]
  },
  {
   "cell_type": "code",
   "execution_count": 23,
   "metadata": {},
   "outputs": [],
   "source": [
    "def plot_image(image, err):\n",
    "    plt.imshow(image, cmap=\"gray\")\n",
    "    plt.xlabel(format(err,'.4f'))\n",
    "    #fig = px.imshow(image)\n",
    "    #fig.show()\n",
    "    #plt.axis(\"off\")\n",
    "    \n",
    "def show_reconstructions(model, images=X_valid, n_images=12):\n",
    "    reconstructions = model.predict(images[:n_images])\n",
    "    #print(type(reconstructions[1])) # turns out to be type of class numpy.ndarray just like X images \n",
    "    mse_ls = []\n",
    "    pred_ls = []\n",
    "    actual_ls = []\n",
    "    fig = plt.figure(figsize=(n_images * 1.5, 3))\n",
    "    for image_index in range(n_images):\n",
    "        #print(reconstructions[image_index])\n",
    "        #print(images[image_index])\n",
    "        pred = reconstructions[image_index]\n",
    "        actual = images[image_index]\n",
    "        d = np.linalg.norm(pred-actual, axis=0)\n",
    "        # compute MSE\n",
    "        mse = np.mean(np.power(d, 2))\n",
    "        #\n",
    "        pred_ls.append(pred)\n",
    "        actual_ls.append(actual)\n",
    "        mse_ls.append(mse)\n",
    "        #\n",
    "    image_dict = {'pred': pred_ls, 'actual': actual_ls, 'mse': mse_ls}\n",
    "    image_df = pd.DataFrame(data=image_dict)\n",
    "    image_df = image_df.sort_values(by='mse', ascending=False)\n",
    "    # fix/reset indexing for new sorted df and drop orignal index column\n",
    "    image_df = image_df.reset_index(drop=True)\n",
    "        #\n",
    "    for i in range(n_images):\n",
    "        plt.subplot(2, n_images, 1 + i)\n",
    "        plot_image(image_df.actual[i], image_df.mse[i])\n",
    "        plt.subplot(2, n_images, 1 + n_images + i)\n",
    "        plot_image(image_df.pred[i], image_df.mse[i])\n",
    "        #print(mse_images)\n",
    "    return image_df.sort_values(by='mse', ascending=False)   \n",
    "   \n"
   ]
  },
  {
   "cell_type": "code",
   "execution_count": 24,
   "metadata": {
    "scrolled": false
   },
   "outputs": [
    {
     "name": "stdout",
     "output_type": "stream",
     "text": [
      "Top row are Original images and bottom row are Decoded images with loss metric from high to low:\n"
     ]
    },
    {
     "data": {
      "image/png": "[encoded data removed]",
      "text/plain": [
       "<Figure size 1296x216 with 24 Axes>"
      ]
     },
     "metadata": {
      "needs_background": "light"
     },
     "output_type": "display_data"
    }
   ],
   "source": [
    "img_df = show_reconstructions(stacked_ae)\n",
    "print(\"Top row are Original images and bottom row are Decoded images with loss metric from high to low:\")\n",
    "\n",
    "#save_fig(\"reconstruction_plot\")\n",
    "\n",
    "# img_df"
   ]
  },
  {
   "cell_type": "code",
   "execution_count": 25,
   "metadata": {
    "scrolled": false
   },
   "outputs": [
    {
     "name": "stdout",
     "output_type": "stream",
     "text": [
      "Top row are Original images and bottom row are Decoded images with loss metric from high to low:\n"
     ]
    },
    {
     "data": {
      "image/png": "[encoded data removed]",
      "text/plain": [
       "<Figure size 1296x216 with 24 Axes>"
      ]
     },
     "metadata": {
      "needs_background": "light"
     },
     "output_type": "display_data"
    }
   ],
   "source": [
    "test_img_df = show_reconstructions(stacked_ae, X_test, 12)\n",
    "print(\"Top row are Original images and bottom row are Decoded images with loss metric from high to low:\")\n",
    "#save_fig(\"reconstruction_plot\")\n",
    "# test_img_df.head(12)"
   ]
  },
  {
   "cell_type": "markdown",
   "metadata": {},
   "source": [
    "**We will extract new features from the Stacked Autoencoder by useing two methods and compare the results to make sure they're identical. One method is simply using the predict function of the Encoder and the other method is using the Keras.function() method**"
   ]
  },
  {
   "cell_type": "code",
   "execution_count": 26,
   "metadata": {
    "scrolled": true
   },
   "outputs": [
    {
     "data": {
      "text/plain": [
       "((10000, 29),\n",
       " array([[-1.7580993,  2.1099563, -1.7580993, ..., -1.7580993, -1.7580993,\n",
       "         -1.7580945],\n",
       "        [-1.7580993,  7.168458 , -1.7580993, ..., -1.7580993, -1.7580993,\n",
       "         -1.7580993],\n",
       "        [-1.7580993,  1.4230533, -1.758099 , ..., -1.7580993, -1.7580974,\n",
       "         -1.7580416],\n",
       "        ...,\n",
       "        [-1.7580993,  6.7270727, -1.7580993, ..., -1.7580993, -1.7580993,\n",
       "         -1.7580993],\n",
       "        [-1.7580993,  5.477454 , -1.7580993, ..., -1.7580993, -1.7580993,\n",
       "         -1.7580993],\n",
       "        [-1.7580993,  9.333678 , -1.7580993, ..., -1.7580993, -1.7580993,\n",
       "         -1.7580993]], dtype=float32))"
      ]
     },
     "execution_count": 26,
     "metadata": {},
     "output_type": "execute_result"
    }
   ],
   "source": [
    "stacked_encoder.predict(X_test).shape, stacked_encoder.predict(X_test)"
   ]
  },
  {
   "cell_type": "code",
   "execution_count": 27,
   "metadata": {},
   "outputs": [
    {
     "name": "stdout",
     "output_type": "stream",
     "text": [
      "(10000, 29) [[-1.7580993  2.1099532 -1.7580993 ... -1.7580993 -1.7580993 -1.7580945]\n",
      " [-1.7580993  7.1684575 -1.7580993 ... -1.7580993 -1.7580993 -1.7580993]\n",
      " [-1.7580993  1.4230521 -1.758099  ... -1.7580993 -1.7580974 -1.7580416]\n",
      " ...\n",
      " [-1.7580993  6.7270727 -1.7580993 ... -1.7580993 -1.7580993 -1.7580993]\n",
      " [-1.7580993  5.4774513 -1.7580993 ... -1.7580993 -1.7580993 -1.7580993]\n",
      " [-1.7580993  9.333682  -1.7580993 ... -1.7580993 -1.7580993 -1.7580993]]\n",
      "(5000, 29) [[-1.7580993  5.2821465 -1.7580993 ... -1.7580993 -1.7580992 -1.7580991]\n",
      " [-1.7580993  5.1363554 -1.7580993 ... -1.7580993 -1.7580993 -1.7580993]\n",
      " [-1.7580993  4.262363  -1.7580993 ... -1.7580993 -1.7580993 -1.7580993]\n",
      " ...\n",
      " [-1.7580993  6.0841684 -1.7580993 ... -1.7580993 -1.7580993 -1.7580993]\n",
      " [-1.7580993  6.14877   -1.7580993 ... -1.7580993 -1.7580993 -1.7580993]\n",
      " [-1.7580993 11.422663  -1.7580993 ... -1.7580993 -1.7580993 -1.758099 ]]\n",
      "(55000, 29) [[-1.7580993  -0.22988008 -1.7580993  ... -1.7580993  -1.7580993\n",
      "  -1.7580993 ]\n",
      " [-1.7580993   7.489995   -1.7580993  ... -1.7580993  -1.7580993\n",
      "  -1.7580993 ]\n",
      " [-1.7580993   6.623694   -1.7580993  ... -1.7580993  -1.7580993\n",
      "  -1.7580993 ]\n",
      " ...\n",
      " [-1.7580993   6.845803   -1.7580993  ... -1.7580993  -1.7580993\n",
      "  -1.7580993 ]\n",
      " [-1.7580993  13.167891   -1.7580993  ... -1.7580993  -1.7580993\n",
      "  -1.7580993 ]\n",
      " [-1.7580993   7.545546   -1.7580993  ... -1.7580993  -1.7580993\n",
      "  -1.7580993 ]]\n"
     ]
    },
    {
     "name": "stderr",
     "output_type": "stream",
     "text": [
      "Using TensorFlow backend.\n"
     ]
    }
   ],
   "source": [
    "# REFERENCE: https://keras.io/getting-started/faq/#how-can-i-obtain-the-output-of-an-intermediate-layer\n",
    "from keras import backend as K\n",
    "\n",
    "# with a Sequential model\n",
    "get_3rd_layer_output = K.function([stacked_encoder.layers[0].input, K.learning_phase()],\n",
    "                                  [stacked_encoder.layers[6].output])\n",
    "\n",
    "# output in test mode = 0\n",
    "stacked_encoder_layer_output_test = get_3rd_layer_output([X_test, 0])[0]\n",
    "print(stacked_encoder_layer_output_test.shape, stacked_encoder_layer_output_test)\n",
    "\n",
    "# output in valid/test mode = 0\n",
    "stacked_encoder_layer_output_val = get_3rd_layer_output([X_valid, 0])[0]\n",
    "print(stacked_encoder_layer_output_val.shape, stacked_encoder_layer_output_val)\n",
    "\n",
    "# output in train mode = 1\n",
    "stacked_encoder_layer_output_train = get_3rd_layer_output([X_train, 1])[0]\n",
    "print(stacked_encoder_layer_output_train.shape, stacked_encoder_layer_output_train)\n",
    "\n",
    "\n",
    "# output in test mode = 0\n",
    "# USE THIS to combine with original data set\n",
    "#layer_output_test = get_3rd_layer_output([X_test, 0])[0]"
   ]
  },
  {
   "cell_type": "markdown",
   "metadata": {},
   "source": [
    "**We see that the both methods extracted the middle layer of Autoencoder which has 29 new (or 'fake') features and it will be added to the original MNIST data set**"
   ]
  },
  {
   "cell_type": "markdown",
   "metadata": {},
   "source": [
    "**We now reshape data sets from 3d to 2d so we can later add 29 features to them.**"
   ]
  },
  {
   "cell_type": "code",
   "execution_count": 28,
   "metadata": {},
   "outputs": [
    {
     "data": {
      "text/plain": [
       "((10000, 784),\n",
       " array([[0., 0., 0., ..., 0., 0., 0.],\n",
       "        [0., 0., 0., ..., 0., 0., 0.],\n",
       "        [0., 0., 0., ..., 0., 0., 0.],\n",
       "        ...,\n",
       "        [0., 0., 0., ..., 0., 0., 0.],\n",
       "        [0., 0., 0., ..., 0., 0., 0.],\n",
       "        [0., 0., 0., ..., 0., 0., 0.]], dtype=float32))"
      ]
     },
     "execution_count": 28,
     "metadata": {},
     "output_type": "execute_result"
    }
   ],
   "source": [
    "X_test_2d = X_test.reshape((-1, X_test.shape[1]*X_test.shape[2]))\n",
    "X_test_2d.shape, X_test_2d"
   ]
  },
  {
   "cell_type": "code",
   "execution_count": 29,
   "metadata": {},
   "outputs": [
    {
     "data": {
      "text/plain": [
       "((10000, 28, 28), (10000, 784), (10000, 29))"
      ]
     },
     "execution_count": 29,
     "metadata": {},
     "output_type": "execute_result"
    }
   ],
   "source": [
    "X_test.shape, X_test_2d.shape, stacked_encoder_layer_output_test.shape"
   ]
  },
  {
   "cell_type": "code",
   "execution_count": 30,
   "metadata": {
    "scrolled": true
   },
   "outputs": [
    {
     "data": {
      "text/plain": [
       "((55000, 784),\n",
       " array([[0., 0., 0., ..., 0., 0., 0.],\n",
       "        [0., 0., 0., ..., 0., 0., 0.],\n",
       "        [0., 0., 0., ..., 0., 0., 0.],\n",
       "        ...,\n",
       "        [0., 0., 0., ..., 0., 0., 0.],\n",
       "        [0., 0., 0., ..., 0., 0., 0.],\n",
       "        [0., 0., 0., ..., 0., 0., 0.]], dtype=float32))"
      ]
     },
     "execution_count": 30,
     "metadata": {},
     "output_type": "execute_result"
    }
   ],
   "source": [
    "X_train_2d = X_train.reshape((-1, X_train.shape[1]*X_train.shape[2]))\n",
    "X_train_2d.shape, X_train_2d"
   ]
  },
  {
   "cell_type": "code",
   "execution_count": 31,
   "metadata": {
    "scrolled": true
   },
   "outputs": [
    {
     "data": {
      "text/plain": [
       "((5000, 784),\n",
       " array([[0., 0., 0., ..., 0., 0., 0.],\n",
       "        [0., 0., 0., ..., 0., 0., 0.],\n",
       "        [0., 0., 0., ..., 0., 0., 0.],\n",
       "        ...,\n",
       "        [0., 0., 0., ..., 0., 0., 0.],\n",
       "        [0., 0., 0., ..., 0., 0., 0.],\n",
       "        [0., 0., 0., ..., 0., 0., 0.]], dtype=float32))"
      ]
     },
     "execution_count": 31,
     "metadata": {},
     "output_type": "execute_result"
    }
   ],
   "source": [
    "X_valid_2d = X_valid.reshape((-1, X_valid.shape[1]*X_valid.shape[2]))\n",
    "X_valid_2d.shape, X_valid_2d"
   ]
  },
  {
   "cell_type": "markdown",
   "metadata": {},
   "source": [
    "**We start adding 29 features to Train, Valid and Test sets**"
   ]
  },
  {
   "cell_type": "code",
   "execution_count": 32,
   "metadata": {},
   "outputs": [
    {
     "data": {
      "text/plain": [
       "(55000, 813)"
      ]
     },
     "execution_count": 32,
     "metadata": {},
     "output_type": "execute_result"
    }
   ],
   "source": [
    "X_train_2d_new = np.hstack((X_train_2d, stacked_encoder_layer_output_train))\n",
    "X_train_2d_new.shape"
   ]
  },
  {
   "cell_type": "code",
   "execution_count": 33,
   "metadata": {
    "scrolled": true
   },
   "outputs": [
    {
     "data": {
      "text/plain": [
       "(5000, 813)"
      ]
     },
     "execution_count": 33,
     "metadata": {},
     "output_type": "execute_result"
    }
   ],
   "source": [
    "X_valid_2d_new = np.hstack((X_valid_2d, stacked_encoder_layer_output_val))\n",
    "X_valid_2d_new.shape"
   ]
  },
  {
   "cell_type": "code",
   "execution_count": 34,
   "metadata": {},
   "outputs": [
    {
     "data": {
      "text/plain": [
       "(10000, 813)"
      ]
     },
     "execution_count": 34,
     "metadata": {},
     "output_type": "execute_result"
    }
   ],
   "source": [
    "X_test_2d_new = np.hstack((X_test_2d, stacked_encoder_layer_output_test))\n",
    "X_test_2d_new.shape"
   ]
  },
  {
   "cell_type": "markdown",
   "metadata": {},
   "source": [
    "**We created a Multi-layered Supervised model (called super_model) to train and test on the MNIST data set. We will first perform training and testing on the combined 29 plus 784 features. Then compare those results to the training and testing of only the original 784 features:** "
   ]
  },
  {
   "cell_type": "code",
   "execution_count": 35,
   "metadata": {},
   "outputs": [
    {
     "name": "stdout",
     "output_type": "stream",
     "text": [
      "Train on 55000 samples, validate on 5000 samples\n",
      "Epoch 1/20\n",
      "55000/55000 [==============================] - 5s 94us/sample - loss: 0.4124 - accuracy: 0.8715 - val_loss: 0.1161 - val_accuracy: 0.9662\n",
      "Epoch 2/20\n",
      "55000/55000 [==============================] - 5s 91us/sample - loss: 0.2158 - accuracy: 0.9354 - val_loss: 0.1125 - val_accuracy: 0.9680\n",
      "Epoch 3/20\n",
      "55000/55000 [==============================] - 5s 87us/sample - loss: 0.1807 - accuracy: 0.9464 - val_loss: 0.1071 - val_accuracy: 0.9684\n",
      "Epoch 4/20\n",
      "55000/55000 [==============================] - 5s 87us/sample - loss: 0.1603 - accuracy: 0.9529 - val_loss: 0.0949 - val_accuracy: 0.9714\n",
      "Epoch 5/20\n",
      "55000/55000 [==============================] - 5s 89us/sample - loss: 0.1452 - accuracy: 0.9567 - val_loss: 0.0754 - val_accuracy: 0.9768\n",
      "Epoch 6/20\n",
      "55000/55000 [==============================] - 5s 85us/sample - loss: 0.1336 - accuracy: 0.9606 - val_loss: 0.0994 - val_accuracy: 0.9726\n",
      "Epoch 7/20\n",
      "55000/55000 [==============================] - 5s 87us/sample - loss: 0.1251 - accuracy: 0.9624 - val_loss: 0.0762 - val_accuracy: 0.9784\n",
      "Epoch 8/20\n",
      "55000/55000 [==============================] - 5s 88us/sample - loss: 0.1172 - accuracy: 0.9640 - val_loss: 0.0757 - val_accuracy: 0.9788\n",
      "Epoch 9/20\n",
      "55000/55000 [==============================] - 5s 86us/sample - loss: 0.1111 - accuracy: 0.9665 - val_loss: 0.0806 - val_accuracy: 0.9762\n",
      "Epoch 10/20\n",
      "55000/55000 [==============================] - 5s 86us/sample - loss: 0.1076 - accuracy: 0.9677 - val_loss: 0.0819 - val_accuracy: 0.9772\n"
     ]
    },
    {
     "data": {
      "image/png": "[encoded data removed]",
      "text/plain": [
       "<Figure size 432x288 with 1 Axes>"
      ]
     },
     "metadata": {
      "needs_background": "light"
     },
     "output_type": "display_data"
    },
    {
     "data": {
      "image/png": "[encoded data removed]",
      "text/plain": [
       "<Figure size 432x288 with 1 Axes>"
      ]
     },
     "metadata": {
      "needs_background": "light"
     },
     "output_type": "display_data"
    }
   ],
   "source": [
    "keras.backend.clear_session()\n",
    "# This super model uses the new 29 features added to 784\n",
    "new_super_model = keras.models.Sequential([\n",
    "    keras.layers.Flatten(input_shape=(813,)),\n",
    "    keras.layers.Dense(40, activation=\"selu\"),\n",
    "    keras.layers.Dropout(0.10),\n",
    "    keras.layers.Dense(60, activation=\"selu\"),\n",
    "    keras.layers.Dropout(0.10),\n",
    "    keras.layers.Dense(80, activation=\"selu\"),\n",
    "    keras.layers.Dropout(0.10),\n",
    "    keras.layers.Dense(58, activation=\"selu\"),\n",
    "    keras.layers.Dropout(0.10),\n",
    "    keras.layers.Dense(38, activation=\"selu\"),\n",
    "    keras.layers.Dense(10, activation=\"sigmoid\")])\n",
    "\n",
    "\n",
    "\n",
    "new_super_model.compile(loss=\"sparse_categorical_crossentropy\",\n",
    "              optimizer=keras.optimizers.Adam(),\n",
    "              metrics=[\"accuracy\"])\n",
    "\n",
    "# This will check loss trend and stop if trend does not change\n",
    "early_stopping_cb = keras.callbacks.EarlyStopping(patience=5)\n",
    "# This will rollback and save best model fit checkpoint\n",
    "checkpoint_cb = keras.callbacks.ModelCheckpoint(\"new_mnist_super_model.h5\", save_best_only=True)\n",
    "\n",
    "# We are using both the X_train_2d_new and X_valid_2d_new dataset which has the new 29 features added to 784\n",
    "new_super_history = new_super_model.fit(X_train_2d_new, y_train, epochs=20,\n",
    "                    validation_data=(X_valid_2d_new, y_valid),\n",
    "                    callbacks=[early_stopping_cb, checkpoint_cb])\n",
    "\n",
    "# Removed # validation_data=(X_valid, y_valid), # from super_history\n",
    "# Removed # callbacks=[early_stopping_cb, checkpoint_cb]) # uses val_loss\n",
    "\n",
    "new_acc = new_super_history.history['accuracy']\n",
    "new_val_acc = new_super_history.history['val_accuracy']\n",
    "new_loss = new_super_history.history['loss']\n",
    "new_val_loss = new_super_history.history['val_loss']\n",
    "\n",
    "new_epochs = range(len(new_loss))\n",
    "\n",
    "plt.plot(new_epochs, new_acc, 'bo', label='Training acc')\n",
    "plt.plot(new_epochs, new_val_acc, 'b', label='Validation acc', color='red')\n",
    "plt.title('Training and Validation accuracy')\n",
    "plt.legend()\n",
    "#plt.savefig('final_curve_fit_acc.png')\n",
    "plt.figure()\n",
    "\n",
    "plt.plot(new_epochs, new_loss, 'bo', label='Training loss')\n",
    "plt.plot(new_epochs, new_val_loss, 'b', label='Validation loss', color='red')\n",
    "plt.title('Training and Validation loss')\n",
    "plt.legend()\n",
    "\n",
    "#plt.savefig('final_curve_fit_loss.png')\n",
    "plt.show()"
   ]
  },
  {
   "cell_type": "code",
   "execution_count": 36,
   "metadata": {},
   "outputs": [
    {
     "name": "stdout",
     "output_type": "stream",
     "text": [
      "10000/10000 [==============================] - 1s 61us/sample - loss: 0.0918 - accuracy: 0.9727\n"
     ]
    },
    {
     "data": {
      "text/plain": [
       "[0.09184804653786123, 0.9727]"
      ]
     },
     "execution_count": 36,
     "metadata": {},
     "output_type": "execute_result"
    }
   ],
   "source": [
    "new_super_model = keras.models.load_model(\"new_mnist_super_model.h5\") # rollback to best model\n",
    "new_super_model.evaluate(X_test_2d_new, y_test)"
   ]
  },
  {
   "cell_type": "code",
   "execution_count": 37,
   "metadata": {},
   "outputs": [],
   "source": [
    "new_test_pred = new_super_model.predict(X_test_2d_new)"
   ]
  },
  {
   "cell_type": "code",
   "execution_count": null,
   "metadata": {},
   "outputs": [],
   "source": []
  },
  {
   "cell_type": "code",
   "execution_count": 38,
   "metadata": {},
   "outputs": [
    {
     "name": "stdout",
     "output_type": "stream",
     "text": [
      "Train on 55000 samples, validate on 5000 samples\n",
      "Epoch 1/20\n",
      "55000/55000 [==============================] - 6s 100us/sample - loss: 0.4551 - accuracy: 0.8614 - val_loss: 0.1591 - val_accuracy: 0.9500\n",
      "Epoch 2/20\n",
      "55000/55000 [==============================] - 5s 89us/sample - loss: 0.2643 - accuracy: 0.9214 - val_loss: 0.1361 - val_accuracy: 0.9600\n",
      "Epoch 3/20\n",
      "55000/55000 [==============================] - 5s 87us/sample - loss: 0.2263 - accuracy: 0.9315 - val_loss: 0.1225 - val_accuracy: 0.9664\n",
      "Epoch 4/20\n",
      "55000/55000 [==============================] - 5s 88us/sample - loss: 0.1962 - accuracy: 0.9400 - val_loss: 0.1184 - val_accuracy: 0.9622\n",
      "Epoch 5/20\n",
      "55000/55000 [==============================] - 5s 89us/sample - loss: 0.1756 - accuracy: 0.9469 - val_loss: 0.0944 - val_accuracy: 0.9714\n",
      "Epoch 6/20\n",
      "55000/55000 [==============================] - 5s 87us/sample - loss: 0.1644 - accuracy: 0.9503 - val_loss: 0.0899 - val_accuracy: 0.9742\n",
      "Epoch 7/20\n",
      "55000/55000 [==============================] - 5s 85us/sample - loss: 0.1504 - accuracy: 0.9537 - val_loss: 0.0897 - val_accuracy: 0.9724\n",
      "Epoch 8/20\n",
      "55000/55000 [==============================] - 5s 87us/sample - loss: 0.1415 - accuracy: 0.9565 - val_loss: 0.0916 - val_accuracy: 0.9712\n",
      "Epoch 9/20\n",
      "55000/55000 [==============================] - 5s 88us/sample - loss: 0.1329 - accuracy: 0.9593 - val_loss: 0.0889 - val_accuracy: 0.9742\n",
      "Epoch 10/20\n",
      "55000/55000 [==============================] - 5s 87us/sample - loss: 0.1269 - accuracy: 0.9613 - val_loss: 0.0853 - val_accuracy: 0.9742\n",
      "Epoch 11/20\n",
      "55000/55000 [==============================] - 5s 88us/sample - loss: 0.1207 - accuracy: 0.9620 - val_loss: 0.0874 - val_accuracy: 0.9730\n",
      "Epoch 12/20\n",
      "55000/55000 [==============================] - 5s 87us/sample - loss: 0.1174 - accuracy: 0.9647 - val_loss: 0.0935 - val_accuracy: 0.9744\n",
      "Epoch 13/20\n",
      "55000/55000 [==============================] - 5s 86us/sample - loss: 0.1102 - accuracy: 0.9668 - val_loss: 0.0850 - val_accuracy: 0.9752\n",
      "Epoch 14/20\n",
      "55000/55000 [==============================] - 5s 88us/sample - loss: 0.1051 - accuracy: 0.9679 - val_loss: 0.0797 - val_accuracy: 0.9764\n",
      "Epoch 15/20\n",
      "55000/55000 [==============================] - 5s 86us/sample - loss: 0.1025 - accuracy: 0.9687 - val_loss: 0.0906 - val_accuracy: 0.9750\n",
      "Epoch 16/20\n",
      "55000/55000 [==============================] - 5s 87us/sample - loss: 0.1014 - accuracy: 0.9695 - val_loss: 0.0798 - val_accuracy: 0.9774\n",
      "Epoch 17/20\n",
      "55000/55000 [==============================] - 5s 84us/sample - loss: 0.0991 - accuracy: 0.9686 - val_loss: 0.0750 - val_accuracy: 0.9784\n",
      "Epoch 18/20\n",
      "55000/55000 [==============================] - 5s 90us/sample - loss: 0.0955 - accuracy: 0.9705 - val_loss: 0.0855 - val_accuracy: 0.9772\n",
      "Epoch 19/20\n",
      "55000/55000 [==============================] - 5s 89us/sample - loss: 0.0947 - accuracy: 0.9708 - val_loss: 0.0840 - val_accuracy: 0.9754\n",
      "Epoch 20/20\n",
      "55000/55000 [==============================] - 5s 89us/sample - loss: 0.0896 - accuracy: 0.9727 - val_loss: 0.0816 - val_accuracy: 0.9776\n"
     ]
    },
    {
     "data": {
      "image/png": "[encoded data removed]",
      "text/plain": [
       "<Figure size 432x288 with 1 Axes>"
      ]
     },
     "metadata": {
      "needs_background": "light"
     },
     "output_type": "display_data"
    },
    {
     "data": {
      "image/png": "[encoded data removed]",
      "text/plain": [
       "<Figure size 432x288 with 1 Axes>"
      ]
     },
     "metadata": {
      "needs_background": "light"
     },
     "output_type": "display_data"
    }
   ],
   "source": [
    "keras.backend.clear_session()\n",
    "# This super model uses only the original 784 features\n",
    "super_model = keras.models.Sequential([\n",
    "    keras.layers.Flatten(input_shape=[28, 28]),\n",
    "    keras.layers.Dense(40, activation=\"selu\"),\n",
    "    keras.layers.Dropout(0.10),\n",
    "    keras.layers.Dense(60, activation=\"selu\"),\n",
    "    keras.layers.Dropout(0.10),\n",
    "    keras.layers.Dense(80, activation=\"selu\"),\n",
    "    keras.layers.Dropout(0.10),\n",
    "    keras.layers.Dense(58, activation=\"selu\"),\n",
    "    keras.layers.Dropout(0.10),\n",
    "    keras.layers.Dense(38, activation=\"selu\"),\n",
    "    keras.layers.Dense(10, activation=\"sigmoid\")])\n",
    "\n",
    "super_model.compile(loss=\"sparse_categorical_crossentropy\",\n",
    "              optimizer=keras.optimizers.Adam(),\n",
    "              metrics=[\"accuracy\"])\n",
    "\n",
    "# This will check loss trend and stop if trend does not change\n",
    "early_stopping_cb = keras.callbacks.EarlyStopping(patience=5)\n",
    "# This will rollback and save best model fit checkpoint\n",
    "checkpoint_cb = keras.callbacks.ModelCheckpoint(\"mnist_super_model.h5\", save_best_only=True)\n",
    "\n",
    "\n",
    "super_history = super_model.fit(X_train, y_train, epochs=20,\n",
    "                    validation_data=(X_valid, y_valid),\n",
    "                    callbacks=[early_stopping_cb, checkpoint_cb])\n",
    "\n",
    "# Removed # validation_data=(X_valid, y_valid), # from super_history\n",
    "# Removed # callbacks=[early_stopping_cb, checkpoint_cb]) # uses val_loss\n",
    "\n",
    "acc = super_history.history['accuracy']\n",
    "val_acc = super_history.history['val_accuracy']\n",
    "loss = super_history.history['loss']\n",
    "val_loss = super_history.history['val_loss']\n",
    "\n",
    "epochs = range(len(loss))\n",
    "\n",
    "plt.plot(epochs, acc, 'bo', label='Training acc')\n",
    "plt.plot(epochs, val_acc, 'b', label='Validation acc', color='red')\n",
    "plt.title('Training and Validation accuracy')\n",
    "plt.legend()\n",
    "#plt.savefig('final_curve_fit_acc.png')\n",
    "plt.figure()\n",
    "\n",
    "plt.plot(epochs, loss, 'bo', label='Training loss')\n",
    "plt.plot(epochs, val_loss, 'b', label='Validation loss', color='red')\n",
    "plt.title('Training and Validation loss')\n",
    "plt.legend()\n",
    "\n",
    "#plt.savefig('final_curve_fit_loss.png')\n",
    "plt.show()"
   ]
  },
  {
   "cell_type": "code",
   "execution_count": 39,
   "metadata": {
    "scrolled": true
   },
   "outputs": [
    {
     "name": "stdout",
     "output_type": "stream",
     "text": [
      "10000/10000 [==============================] - 1s 73us/sample - loss: 0.0914 - accuracy: 0.9734\n"
     ]
    },
    {
     "data": {
      "text/plain": [
       "[0.09141164272893221, 0.9734]"
      ]
     },
     "execution_count": 39,
     "metadata": {},
     "output_type": "execute_result"
    }
   ],
   "source": [
    "super_model = keras.models.load_model(\"mnist_super_model.h5\") # rollback to best model\n",
    "super_model.evaluate(X_test, y_test)"
   ]
  },
  {
   "cell_type": "markdown",
   "metadata": {},
   "source": [
    "**We are just observing how the small sample of test data performs on super_model predictions:**"
   ]
  },
  {
   "cell_type": "code",
   "execution_count": 40,
   "metadata": {},
   "outputs": [],
   "source": [
    "# Using the super_model (original 784 features) to observe small sample of predictions\n",
    "pred = super_model.predict(X_test)"
   ]
  },
  {
   "cell_type": "code",
   "execution_count": 41,
   "metadata": {},
   "outputs": [],
   "source": [
    "missed_idx = []\n",
    "correct_idx = []\n",
    "pred_rnk_1 = []\n",
    "pred_rnk_2 = []\n",
    "missed = 0\n",
    "correct = 0\n",
    "for idx in range(0, 10000):\n",
    "    pred_idxsort = pred[idx].argsort()\n",
    "    pred_rnk_1.append(pred_idxsort[-1])\n",
    "    pred_rnk_2.append(pred_idxsort[-2])\n",
    "    if (y_test[idx] != pred_idxsort[-1]):\n",
    "        missed_idx.append(idx)\n",
    "        #print(idx,'',y_test[idx],'',pred_rnk_1,'',pred_rnk_2)\n",
    "        missed+=1\n",
    "    else:\n",
    "        correct_idx.append(idx)\n",
    "        #print(idx,'',y_test[idx],'',pred_rnk_1,'',pred_rnk_2)\n",
    "        correct+=1"
   ]
  },
  {
   "cell_type": "code",
   "execution_count": 42,
   "metadata": {},
   "outputs": [],
   "source": [
    "incorrect_indices = missed_idx\n",
    "correct_indices = correct_idx\n",
    "testX = X_test\n",
    "testy = y_test\n",
    "predicted_classes = pred_rnk_1"
   ]
  },
  {
   "cell_type": "code",
   "execution_count": 43,
   "metadata": {},
   "outputs": [
    {
     "data": {
      "image/png": "[encoded data removed]",
      "text/plain": [
       "<Figure size 504x1008 with 18 Axes>"
      ]
     },
     "metadata": {},
     "output_type": "display_data"
    }
   ],
   "source": [
    "# adapt figure size to accomodate 18 subplots\n",
    "plt.rcParams['figure.figsize'] = (7,14)\n",
    "\n",
    "figure_evaluation = plt.figure()\n",
    "\n",
    "# plot 9 correct predictions\n",
    "for i, correct in enumerate(correct_indices[:9]):\n",
    "    plt.subplot(6,3,i+1)\n",
    "    plt.imshow(testX[correct].reshape(28,28), cmap='gray', interpolation='none')\n",
    "    plt.title(\n",
    "      \"Predicted: {}, Truth: {}\".format(predicted_classes[correct],\n",
    "                                        testy[correct]))\n",
    "    plt.xticks([])\n",
    "    plt.yticks([])\n",
    "\n",
    "# plot 9 incorrect predictions\n",
    "for i, incorrect in enumerate(incorrect_indices[:9]):\n",
    "    plt.subplot(6,3,i+10)\n",
    "    plt.imshow(testX[incorrect].reshape(28,28), cmap='gray', interpolation='none')\n",
    "    plt.title(\n",
    "      \"Predicted {}, Truth: {}\".format(predicted_classes[incorrect], \n",
    "                                       testy[incorrect]))\n",
    "    plt.xticks([])\n",
    "    plt.yticks([])"
   ]
  },
  {
   "cell_type": "code",
   "execution_count": 44,
   "metadata": {},
   "outputs": [],
   "source": [
    "# Using the new_super_model (29 plus 784 features) to observe small sample of predictions\n",
    "new_pred = new_super_model.predict(X_test_2d_new)\n",
    "pred = new_pred"
   ]
  },
  {
   "cell_type": "code",
   "execution_count": 45,
   "metadata": {},
   "outputs": [
    {
     "data": {
      "image/png": "[encoded data removed]",
      "text/plain": [
       "<Figure size 504x1008 with 18 Axes>"
      ]
     },
     "metadata": {},
     "output_type": "display_data"
    }
   ],
   "source": [
    "missed_idx = []\n",
    "correct_idx = []\n",
    "pred_rnk_1 = []\n",
    "pred_rnk_2 = []\n",
    "missed = 0\n",
    "correct = 0\n",
    "for idx in range(0, 10000):\n",
    "    pred_idxsort = pred[idx].argsort()\n",
    "    pred_rnk_1.append(pred_idxsort[-1])\n",
    "    pred_rnk_2.append(pred_idxsort[-2])\n",
    "    if (y_test[idx] != pred_idxsort[-1]):\n",
    "        missed_idx.append(idx)\n",
    "        #print(idx,'',y_test[idx],'',pred_rnk_1,'',pred_rnk_2)\n",
    "        missed+=1\n",
    "    else:\n",
    "        correct_idx.append(idx)\n",
    "        #print(idx,'',y_test[idx],'',pred_rnk_1,'',pred_rnk_2)\n",
    "        correct+=1\n",
    "        \n",
    "incorrect_indices = missed_idx\n",
    "correct_indices = correct_idx\n",
    "testX = X_test\n",
    "testy = y_test\n",
    "predicted_classes = pred_rnk_1\n",
    "\n",
    "# adapt figure size to accomodate 18 subplots\n",
    "plt.rcParams['figure.figsize'] = (7,14)\n",
    "\n",
    "figure_evaluation = plt.figure()\n",
    "\n",
    "# plot 9 correct predictions\n",
    "for i, correct in enumerate(correct_indices[:9]):\n",
    "    plt.subplot(6,3,i+1)\n",
    "    plt.imshow(testX[correct].reshape(28,28), cmap='gray', interpolation='none')\n",
    "    plt.title(\n",
    "      \"Predicted: {}, Truth: {}\".format(predicted_classes[correct],\n",
    "                                        testy[correct]))\n",
    "    plt.xticks([])\n",
    "    plt.yticks([])\n",
    "\n",
    "# plot 9 incorrect predictions\n",
    "for i, incorrect in enumerate(incorrect_indices[:9]):\n",
    "    plt.subplot(6,3,i+10)\n",
    "    plt.imshow(testX[incorrect].reshape(28,28), cmap='gray', interpolation='none')\n",
    "    plt.title(\n",
    "      \"Predicted {}, Truth: {}\".format(predicted_classes[incorrect], \n",
    "                                       testy[incorrect]))\n",
    "    plt.xticks([])\n",
    "    plt.yticks([])"
   ]
  },
  {
   "cell_type": "code",
   "execution_count": 47,
   "metadata": {},
   "outputs": [
    {
     "data": {
      "text/plain": [
       "5.483909956614176"
      ]
     },
     "execution_count": 47,
     "metadata": {},
     "output_type": "execute_result"
    }
   ],
   "source": [
    "# Get total runtime in minutes\n",
    "(time.time() - start_time)/60"
   ]
  },
  {
   "cell_type": "code",
   "execution_count": null,
   "metadata": {},
   "outputs": [],
   "source": []
  }
 ],
 "metadata": {
  "kernelspec": {
   "display_name": "Python 3",
   "language": "python",
   "name": "python3"
  },
  "language_info": {
   "codemirror_mode": {
    "name": "ipython",
    "version": 3
   },
   "file_extension": ".py",
   "mimetype": "text/x-python",
   "name": "python",
   "nbconvert_exporter": "python",
   "pygments_lexer": "ipython3",
   "version": "3.6.10"
  }
 },
 "nbformat": 4,
 "nbformat_minor": 4
}
